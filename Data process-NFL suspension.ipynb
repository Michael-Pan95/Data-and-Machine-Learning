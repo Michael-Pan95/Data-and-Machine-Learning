{
 "cells": [
  {
   "cell_type": "markdown",
   "metadata": {},
   "source": [
    "# Data process-NFL suspension"
   ]
  },
  {
   "cell_type": "markdown",
   "metadata": {},
   "source": [
    "### retrive years distribution"
   ]
  },
  {
   "cell_type": "code",
   "execution_count": 2,
   "metadata": {},
   "outputs": [
    {
     "name": "stdout",
     "output_type": "stream",
     "text": [
      "{'2014': 29, '1946': 1, '1947': 1, '2010': 21, '2008': 10, '2007': 17, '1983': 1, '2009': 10, '2005': 8, '2000': 1, '2012': 45, '2001': 3, '2006': 11, '1989': 17, '   ': 1, '1963': 1, '2013': 40, '1990': 3, '2011': 13, '2004': 6, '2002': 7, '2003': 9, '1997': 3, '1999': 5, '1993': 1, '1995': 1, '1998': 2, '1994': 1, '1986': 1}\n"
     ]
    }
   ],
   "source": [
    "import csv\n",
    "f = open('nfl_suspensions_data.csv')\n",
    "nfl_suspensions = list(csv.reader(f))\n",
    "nfl_suspensions = nfl_suspensions[1:]\n",
    "\n",
    "years = {}\n",
    "for y in nfl_suspensions:\n",
    "    if y[5] in years:\n",
    "        years[y[5]] += 1\n",
    "    else:\n",
    "        years[y[5]] = 1\n",
    "print(years)"
   ]
  },
  {
   "cell_type": "markdown",
   "metadata": {},
   "source": [
    "### find out unique games and teams"
   ]
  },
  {
   "cell_type": "code",
   "execution_count": 4,
   "metadata": {},
   "outputs": [
    {
     "name": "stdout",
     "output_type": "stream",
     "text": [
      "unique_teams {'ARI', 'TB', 'NE', 'NYG', 'SF', 'CLE', 'FREE', 'LA', 'DEN', 'ATL', 'SD', 'BAL', 'MIN', 'IND', 'NO', 'KC', 'NYJ', 'CHI', 'OAK', 'SEA', 'GB', 'MIA', 'PHI', 'DAL', 'CAR', 'BUF', 'WAS', 'HOU', 'PIT', 'JAX', 'STL', 'DET', 'CIN', 'TEN'}\n",
      "unique_games {'Indef.', '20', '2', '10', '32', '6', '5', '16', '4', '3', '36', '14', '1', '8'}\n"
     ]
    }
   ],
   "source": [
    "unique_teams = set()\n",
    "teams = [row[1] for row in nfl_suspensions]\n",
    "unique_teams = set(teams)\n",
    "print('unique_teams',unique_teams)\n",
    "\n",
    "unique_games = set()\n",
    "games = [row[2] for row in nfl_suspensions]\n",
    "unique_games = set(games)\n",
    "print('unique_games',unique_games)"
   ]
  },
  {
   "cell_type": "markdown",
   "metadata": {},
   "source": [
    "### write a class to automatically get datas from raw data"
   ]
  },
  {
   "cell_type": "code",
   "execution_count": 6,
   "metadata": {},
   "outputs": [
    {
     "name": "stdout",
     "output_type": "stream",
     "text": [
      "0\n"
     ]
    }
   ],
   "source": [
    "class Suspension():\n",
    "    def __init__(self,row):\n",
    "        self.name = row[0]\n",
    "        self.team = row[1]\n",
    "        self.games = row[2]\n",
    "        try:\n",
    "            self.year = int(row[3])\n",
    "        except:\n",
    "            self.year = 0\n",
    "            \n",
    "    def get_year(self):\n",
    "        return self.year\n",
    "    \n",
    "missing_year = Suspension(nfl_suspensions[22])\n",
    "twenty_third_year  = missing_year.get_year()\n",
    "print(twenty_third_year)"
   ]
  }
 ],
 "metadata": {
  "kernelspec": {
   "display_name": "Python 3",
   "language": "python",
   "name": "python3"
  },
  "language_info": {
   "codemirror_mode": {
    "name": "ipython",
    "version": 3
   },
   "file_extension": ".py",
   "mimetype": "text/x-python",
   "name": "python",
   "nbconvert_exporter": "python",
   "pygments_lexer": "ipython3",
   "version": "3.6.3"
  }
 },
 "nbformat": 4,
 "nbformat_minor": 2
}
