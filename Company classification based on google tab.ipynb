{
 "cells": [
  {
   "cell_type": "markdown",
   "metadata": {},
   "source": [
    "# Read Data and Data cleaning"
   ]
  },
  {
   "cell_type": "code",
   "execution_count": 1,
   "metadata": {},
   "outputs": [
    {
     "name": "stdout",
     "output_type": "stream",
     "text": [
      "Index(['place_id', 'international_phone_number', 'url', 'website',\n",
      "       'formatted_address', 'opening_hours'],\n",
      "      dtype='object')\n",
      "Index(['place_id', 'name', 'lat', 'long', 'types'], dtype='object')\n"
     ]
    }
   ],
   "source": [
    "import os\n",
    "import re\n",
    "import glob\n",
    "import pandas as pd\n",
    "import numpy as np\n",
    "\n",
    "places_details = pd.read_csv('./ML_interview/data/places_details.csv',encoding = 'latin_1')\n",
    "places_interview = pd.read_csv('./ML_interview/data/places_interview.csv',encoding = 'latin_1')\n",
    "print(places_details.columns)\n",
    "print(places_interview.columns)"
   ]
  },
  {
   "cell_type": "code",
   "execution_count": 2,
   "metadata": {},
   "outputs": [
    {
     "data": {
      "text/html": [
       "<div>\n",
       "<style>\n",
       "    .dataframe thead tr:only-child th {\n",
       "        text-align: right;\n",
       "    }\n",
       "\n",
       "    .dataframe thead th {\n",
       "        text-align: left;\n",
       "    }\n",
       "\n",
       "    .dataframe tbody tr th {\n",
       "        vertical-align: top;\n",
       "    }\n",
       "</style>\n",
       "<table border=\"1\" class=\"dataframe\">\n",
       "  <thead>\n",
       "    <tr style=\"text-align: right;\">\n",
       "      <th></th>\n",
       "      <th>place_id</th>\n",
       "      <th>international_phone_number</th>\n",
       "      <th>url</th>\n",
       "      <th>website</th>\n",
       "      <th>formatted_address</th>\n",
       "      <th>opening_hours</th>\n",
       "      <th>name</th>\n",
       "      <th>lat</th>\n",
       "      <th>long</th>\n",
       "      <th>types</th>\n",
       "    </tr>\n",
       "  </thead>\n",
       "  <tbody>\n",
       "    <tr>\n",
       "      <th>0</th>\n",
       "      <td>ChIJx9oC6djOsGoRV5S3nIKZ5GU</td>\n",
       "      <td>+61 8 8231 3273</td>\n",
       "      <td>https://maps.google.com/?cid=7342162078774826071</td>\n",
       "      <td>http://www.funkcoffeefood.com.au/locations</td>\n",
       "      <td>250 Victoria Square  Adelaide SA 5000  Australia</td>\n",
       "      <td>['Monday: 7:00 AM â 4:30 PM'  'Tuesday: 7:00...</td>\n",
       "      <td>Funk Coffee+Food</td>\n",
       "      <td>-34.929582</td>\n",
       "      <td>138.601152</td>\n",
       "      <td>[cafe food point_of_interest establishment]</td>\n",
       "    </tr>\n",
       "    <tr>\n",
       "      <th>1</th>\n",
       "      <td>ChIJ7wd7L9jOsGoR1jr5ZlwJVrQ</td>\n",
       "      <td>+61 8 8232 5115</td>\n",
       "      <td>https://maps.google.com/?cid=12994584067293395670</td>\n",
       "      <td>http://www.blefaricafe.com/</td>\n",
       "      <td>182 Victoria Square  Adelaide SA 5000  Australia</td>\n",
       "      <td>['Monday: 7:00 AM â 4:30 PM'  'Tuesday: 7:00...</td>\n",
       "      <td>Blefari Caffe &amp; Cucina</td>\n",
       "      <td>-34.927236</td>\n",
       "      <td>138.600789</td>\n",
       "      <td>[cafe food point_of_interest establishment]</td>\n",
       "    </tr>\n",
       "    <tr>\n",
       "      <th>2</th>\n",
       "      <td>ChIJL6NKedjOsGoRtxt8bpno46Y</td>\n",
       "      <td>+61 8 8410 3331</td>\n",
       "      <td>https://maps.google.com/?cid=12025711175690623927</td>\n",
       "      <td>https://m.facebook.com/pages/Argo-On-The-Squar...</td>\n",
       "      <td>4/211 Victoria Square  Adelaide SA 5000  Austr...</td>\n",
       "      <td>['Monday: 6:30 AM â 4:00 PM'  'Tuesday: 6:30...</td>\n",
       "      <td>Argo On The Square</td>\n",
       "      <td>-34.928403</td>\n",
       "      <td>138.598956</td>\n",
       "      <td>[cafe store food point_of_interest establishment]</td>\n",
       "    </tr>\n",
       "    <tr>\n",
       "      <th>3</th>\n",
       "      <td>ChIJE1Co3tnOsGoRDvBB5-O9A5o</td>\n",
       "      <td>+61 8 8223 6176</td>\n",
       "      <td>https://maps.google.com/?cid=11097922693306118158</td>\n",
       "      <td>http://caferitz.com.au/</td>\n",
       "      <td>3/180 Gawler Pl  Adelaide SA 5000  Australia</td>\n",
       "      <td>['Monday: 6:00 AM â 4:00 PM'  'Tuesday: 6:00...</td>\n",
       "      <td>Cafe Ritz</td>\n",
       "      <td>-34.927674</td>\n",
       "      <td>138.602349</td>\n",
       "      <td>[cafe food point_of_interest establishment]</td>\n",
       "    </tr>\n",
       "    <tr>\n",
       "      <th>4</th>\n",
       "      <td>ChIJ_9gQfNjOsGoRlJAeTDZsyIA</td>\n",
       "      <td>+61 8 8410 3331</td>\n",
       "      <td>https://maps.google.com/?cid=9279786012658012308</td>\n",
       "      <td>NaN</td>\n",
       "      <td>211 Victoria Square  Adelaide SA 5000  Australia</td>\n",
       "      <td>NaN</td>\n",
       "      <td>Ink Cafe</td>\n",
       "      <td>-34.928276</td>\n",
       "      <td>138.598825</td>\n",
       "      <td>[cafe food point_of_interest establishment]</td>\n",
       "    </tr>\n",
       "  </tbody>\n",
       "</table>\n",
       "</div>"
      ],
      "text/plain": [
       "                      place_id international_phone_number  \\\n",
       "0  ChIJx9oC6djOsGoRV5S3nIKZ5GU            +61 8 8231 3273   \n",
       "1  ChIJ7wd7L9jOsGoR1jr5ZlwJVrQ            +61 8 8232 5115   \n",
       "2  ChIJL6NKedjOsGoRtxt8bpno46Y            +61 8 8410 3331   \n",
       "3  ChIJE1Co3tnOsGoRDvBB5-O9A5o            +61 8 8223 6176   \n",
       "4  ChIJ_9gQfNjOsGoRlJAeTDZsyIA            +61 8 8410 3331   \n",
       "\n",
       "                                                 url  \\\n",
       "0   https://maps.google.com/?cid=7342162078774826071   \n",
       "1  https://maps.google.com/?cid=12994584067293395670   \n",
       "2  https://maps.google.com/?cid=12025711175690623927   \n",
       "3  https://maps.google.com/?cid=11097922693306118158   \n",
       "4   https://maps.google.com/?cid=9279786012658012308   \n",
       "\n",
       "                                             website  \\\n",
       "0         http://www.funkcoffeefood.com.au/locations   \n",
       "1                        http://www.blefaricafe.com/   \n",
       "2  https://m.facebook.com/pages/Argo-On-The-Squar...   \n",
       "3                            http://caferitz.com.au/   \n",
       "4                                                NaN   \n",
       "\n",
       "                                   formatted_address  \\\n",
       "0   250 Victoria Square  Adelaide SA 5000  Australia   \n",
       "1   182 Victoria Square  Adelaide SA 5000  Australia   \n",
       "2  4/211 Victoria Square  Adelaide SA 5000  Austr...   \n",
       "3       3/180 Gawler Pl  Adelaide SA 5000  Australia   \n",
       "4   211 Victoria Square  Adelaide SA 5000  Australia   \n",
       "\n",
       "                                       opening_hours                    name  \\\n",
       "0  ['Monday: 7:00 AM â 4:30 PM'  'Tuesday: 7:00...        Funk Coffee+Food   \n",
       "1  ['Monday: 7:00 AM â 4:30 PM'  'Tuesday: 7:00...  Blefari Caffe & Cucina   \n",
       "2  ['Monday: 6:30 AM â 4:00 PM'  'Tuesday: 6:30...      Argo On The Square   \n",
       "3  ['Monday: 6:00 AM â 4:00 PM'  'Tuesday: 6:00...               Cafe Ritz   \n",
       "4                                                NaN                Ink Cafe   \n",
       "\n",
       "         lat        long                                              types  \n",
       "0 -34.929582  138.601152        [cafe food point_of_interest establishment]  \n",
       "1 -34.927236  138.600789        [cafe food point_of_interest establishment]  \n",
       "2 -34.928403  138.598956  [cafe store food point_of_interest establishment]  \n",
       "3 -34.927674  138.602349        [cafe food point_of_interest establishment]  \n",
       "4 -34.928276  138.598825        [cafe food point_of_interest establishment]  "
      ]
     },
     "execution_count": 2,
     "metadata": {},
     "output_type": "execute_result"
    }
   ],
   "source": [
    "# join two dataframe on the place_id\n",
    "data = pd.merge(places_details,places_interview,on = ['place_id','place_id'])\n",
    "data.head()"
   ]
  },
  {
   "cell_type": "code",
   "execution_count": 3,
   "metadata": {},
   "outputs": [
    {
     "name": "stdout",
     "output_type": "stream",
     "text": [
      "count                                                  5550\n",
      "unique                                                  275\n",
      "top       [church place_of_worship point_of_interest est...\n",
      "freq                                                   1054\n",
      "Name: types, dtype: object\n"
     ]
    }
   ],
   "source": [
    "print(data['types'].describe())"
   ]
  },
  {
   "cell_type": "markdown",
   "metadata": {},
   "source": [
    "Analysis:<br>\n",
    "Among columns, the most relavent data is 'name'. <br>\n",
    "longitude and latitude may be another dependent based on the assumption that the similar restuarants are gathered.<br>\n",
    "Opening hour is the last possible indicator.<br>\n",
    "The rest of the data are logically irrelavent."
   ]
  },
  {
   "cell_type": "code",
   "execution_count": 4,
   "metadata": {},
   "outputs": [
    {
     "data": {
      "text/html": [
       "<div>\n",
       "<style>\n",
       "    .dataframe thead tr:only-child th {\n",
       "        text-align: right;\n",
       "    }\n",
       "\n",
       "    .dataframe thead th {\n",
       "        text-align: left;\n",
       "    }\n",
       "\n",
       "    .dataframe tbody tr th {\n",
       "        vertical-align: top;\n",
       "    }\n",
       "</style>\n",
       "<table border=\"1\" class=\"dataframe\">\n",
       "  <thead>\n",
       "    <tr style=\"text-align: right;\">\n",
       "      <th></th>\n",
       "      <th>place_id</th>\n",
       "      <th>name</th>\n",
       "      <th>lat</th>\n",
       "      <th>long</th>\n",
       "      <th>opening_hours</th>\n",
       "      <th>types</th>\n",
       "    </tr>\n",
       "  </thead>\n",
       "  <tbody>\n",
       "    <tr>\n",
       "      <th>0</th>\n",
       "      <td>ChIJx9oC6djOsGoRV5S3nIKZ5GU</td>\n",
       "      <td>Funk Coffee+Food</td>\n",
       "      <td>-34.929582</td>\n",
       "      <td>138.601152</td>\n",
       "      <td>['Monday: 7:00 AM â 4:30 PM'  'Tuesday: 7:00...</td>\n",
       "      <td>[cafe food point_of_interest establishment]</td>\n",
       "    </tr>\n",
       "    <tr>\n",
       "      <th>1</th>\n",
       "      <td>ChIJ7wd7L9jOsGoR1jr5ZlwJVrQ</td>\n",
       "      <td>Blefari Caffe &amp; Cucina</td>\n",
       "      <td>-34.927236</td>\n",
       "      <td>138.600789</td>\n",
       "      <td>['Monday: 7:00 AM â 4:30 PM'  'Tuesday: 7:00...</td>\n",
       "      <td>[cafe food point_of_interest establishment]</td>\n",
       "    </tr>\n",
       "    <tr>\n",
       "      <th>2</th>\n",
       "      <td>ChIJL6NKedjOsGoRtxt8bpno46Y</td>\n",
       "      <td>Argo On The Square</td>\n",
       "      <td>-34.928403</td>\n",
       "      <td>138.598956</td>\n",
       "      <td>['Monday: 6:30 AM â 4:00 PM'  'Tuesday: 6:30...</td>\n",
       "      <td>[cafe store food point_of_interest establishment]</td>\n",
       "    </tr>\n",
       "    <tr>\n",
       "      <th>3</th>\n",
       "      <td>ChIJE1Co3tnOsGoRDvBB5-O9A5o</td>\n",
       "      <td>Cafe Ritz</td>\n",
       "      <td>-34.927674</td>\n",
       "      <td>138.602349</td>\n",
       "      <td>['Monday: 6:00 AM â 4:00 PM'  'Tuesday: 6:00...</td>\n",
       "      <td>[cafe food point_of_interest establishment]</td>\n",
       "    </tr>\n",
       "    <tr>\n",
       "      <th>4</th>\n",
       "      <td>ChIJ_9gQfNjOsGoRlJAeTDZsyIA</td>\n",
       "      <td>Ink Cafe</td>\n",
       "      <td>-34.928276</td>\n",
       "      <td>138.598825</td>\n",
       "      <td>NaN</td>\n",
       "      <td>[cafe food point_of_interest establishment]</td>\n",
       "    </tr>\n",
       "  </tbody>\n",
       "</table>\n",
       "</div>"
      ],
      "text/plain": [
       "                      place_id                    name        lat        long  \\\n",
       "0  ChIJx9oC6djOsGoRV5S3nIKZ5GU        Funk Coffee+Food -34.929582  138.601152   \n",
       "1  ChIJ7wd7L9jOsGoR1jr5ZlwJVrQ  Blefari Caffe & Cucina -34.927236  138.600789   \n",
       "2  ChIJL6NKedjOsGoRtxt8bpno46Y      Argo On The Square -34.928403  138.598956   \n",
       "3  ChIJE1Co3tnOsGoRDvBB5-O9A5o               Cafe Ritz -34.927674  138.602349   \n",
       "4  ChIJ_9gQfNjOsGoRlJAeTDZsyIA                Ink Cafe -34.928276  138.598825   \n",
       "\n",
       "                                       opening_hours  \\\n",
       "0  ['Monday: 7:00 AM â 4:30 PM'  'Tuesday: 7:00...   \n",
       "1  ['Monday: 7:00 AM â 4:30 PM'  'Tuesday: 7:00...   \n",
       "2  ['Monday: 6:30 AM â 4:00 PM'  'Tuesday: 6:30...   \n",
       "3  ['Monday: 6:00 AM â 4:00 PM'  'Tuesday: 6:00...   \n",
       "4                                                NaN   \n",
       "\n",
       "                                               types  \n",
       "0        [cafe food point_of_interest establishment]  \n",
       "1        [cafe food point_of_interest establishment]  \n",
       "2  [cafe store food point_of_interest establishment]  \n",
       "3        [cafe food point_of_interest establishment]  \n",
       "4        [cafe food point_of_interest establishment]  "
      ]
     },
     "execution_count": 4,
     "metadata": {},
     "output_type": "execute_result"
    }
   ],
   "source": [
    "data_new = data[['place_id','name','lat','long','opening_hours','types']]\n",
    "data_new.head()"
   ]
  },
  {
   "cell_type": "code",
   "execution_count": 5,
   "metadata": {},
   "outputs": [
    {
     "data": {
      "text/html": [
       "<div>\n",
       "<style>\n",
       "    .dataframe thead tr:only-child th {\n",
       "        text-align: right;\n",
       "    }\n",
       "\n",
       "    .dataframe thead th {\n",
       "        text-align: left;\n",
       "    }\n",
       "\n",
       "    .dataframe tbody tr th {\n",
       "        vertical-align: top;\n",
       "    }\n",
       "</style>\n",
       "<table border=\"1\" class=\"dataframe\">\n",
       "  <thead>\n",
       "    <tr style=\"text-align: right;\">\n",
       "      <th></th>\n",
       "      <th>place_id</th>\n",
       "      <th>name</th>\n",
       "      <th>lat</th>\n",
       "      <th>long</th>\n",
       "      <th>opening_hours</th>\n",
       "      <th>types</th>\n",
       "    </tr>\n",
       "  </thead>\n",
       "  <tbody>\n",
       "    <tr>\n",
       "      <th>0</th>\n",
       "      <td>ChIJx9oC6djOsGoRV5S3nIKZ5GU</td>\n",
       "      <td>Funk Coffee Food</td>\n",
       "      <td>-34.929582</td>\n",
       "      <td>138.601152</td>\n",
       "      <td>Monday 7 00 AM 4 30 PM Tuesday 7 00 AM 4 30 P...</td>\n",
       "      <td>cafe food point of interest establishment</td>\n",
       "    </tr>\n",
       "    <tr>\n",
       "      <th>1</th>\n",
       "      <td>ChIJ7wd7L9jOsGoR1jr5ZlwJVrQ</td>\n",
       "      <td>Blefari Caffe Cucina</td>\n",
       "      <td>-34.927236</td>\n",
       "      <td>138.600789</td>\n",
       "      <td>Monday 7 00 AM 4 30 PM Tuesday 7 00 AM 4 30 P...</td>\n",
       "      <td>cafe food point of interest establishment</td>\n",
       "    </tr>\n",
       "    <tr>\n",
       "      <th>2</th>\n",
       "      <td>ChIJL6NKedjOsGoRtxt8bpno46Y</td>\n",
       "      <td>Argo On The Square</td>\n",
       "      <td>-34.928403</td>\n",
       "      <td>138.598956</td>\n",
       "      <td>Monday 6 30 AM 4 00 PM Tuesday 6 30 AM 4 00 P...</td>\n",
       "      <td>cafe store food point of interest establishment</td>\n",
       "    </tr>\n",
       "    <tr>\n",
       "      <th>3</th>\n",
       "      <td>ChIJE1Co3tnOsGoRDvBB5 O9A5o</td>\n",
       "      <td>Cafe Ritz</td>\n",
       "      <td>-34.927674</td>\n",
       "      <td>138.602349</td>\n",
       "      <td>Monday 6 00 AM 4 00 PM Tuesday 6 00 AM 4 00 P...</td>\n",
       "      <td>cafe food point of interest establishment</td>\n",
       "    </tr>\n",
       "    <tr>\n",
       "      <th>4</th>\n",
       "      <td>ChIJ 9gQfNjOsGoRlJAeTDZsyIA</td>\n",
       "      <td>Ink Cafe</td>\n",
       "      <td>-34.928276</td>\n",
       "      <td>138.598825</td>\n",
       "      <td>nan</td>\n",
       "      <td>cafe food point of interest establishment</td>\n",
       "    </tr>\n",
       "  </tbody>\n",
       "</table>\n",
       "</div>"
      ],
      "text/plain": [
       "                      place_id                  name        lat        long  \\\n",
       "0  ChIJx9oC6djOsGoRV5S3nIKZ5GU      Funk Coffee Food -34.929582  138.601152   \n",
       "1  ChIJ7wd7L9jOsGoR1jr5ZlwJVrQ  Blefari Caffe Cucina -34.927236  138.600789   \n",
       "2  ChIJL6NKedjOsGoRtxt8bpno46Y    Argo On The Square -34.928403  138.598956   \n",
       "3  ChIJE1Co3tnOsGoRDvBB5 O9A5o             Cafe Ritz -34.927674  138.602349   \n",
       "4  ChIJ 9gQfNjOsGoRlJAeTDZsyIA              Ink Cafe -34.928276  138.598825   \n",
       "\n",
       "                                       opening_hours  \\\n",
       "0   Monday 7 00 AM 4 30 PM Tuesday 7 00 AM 4 30 P...   \n",
       "1   Monday 7 00 AM 4 30 PM Tuesday 7 00 AM 4 30 P...   \n",
       "2   Monday 6 30 AM 4 00 PM Tuesday 6 30 AM 4 00 P...   \n",
       "3   Monday 6 00 AM 4 00 PM Tuesday 6 00 AM 4 00 P...   \n",
       "4                                                nan   \n",
       "\n",
       "                                               types  \n",
       "0         cafe food point of interest establishment   \n",
       "1         cafe food point of interest establishment   \n",
       "2   cafe store food point of interest establishment   \n",
       "3         cafe food point of interest establishment   \n",
       "4         cafe food point of interest establishment   "
      ]
     },
     "execution_count": 5,
     "metadata": {},
     "output_type": "execute_result"
    }
   ],
   "source": [
    "# clean data\n",
    "\n",
    "data_new.dropna(axis = 0, how = 'any', subset=['name','types']) #drop the data without name or type\n",
    "\n",
    "col_list = data_new.columns\n",
    "for i in col_list: # clean all non alphanumeric symbol\n",
    "    if i not in ['lat','long']:\n",
    "        temp = []\n",
    "        for data in data_new[i]:\n",
    "            try:\n",
    "                temp.append(re.sub(r'[_â\\W+]+',' ',str(data)))\n",
    "            except:\n",
    "                temp.append(pd.nan)\n",
    "                pass\n",
    "        data_new[i] = temp\n",
    "\n",
    "data_new.head()"
   ]
  },
  {
   "cell_type": "markdown",
   "metadata": {},
   "source": [
    "# NLP"
   ]
  },
  {
   "cell_type": "code",
   "execution_count": 6,
   "metadata": {
    "collapsed": true
   },
   "outputs": [],
   "source": [
    "import nltk\n",
    "import random\n",
    "from nltk import word_tokenize\n",
    "from nltk.corpus import stopwords"
   ]
  },
  {
   "cell_type": "code",
   "execution_count": 7,
   "metadata": {
    "collapsed": true
   },
   "outputs": [],
   "source": [
    "stop = set(stopwords.words('english'))\n",
    "def is_ok(token):\n",
    "    return bool(re.match(r'^[a-zA-Z0-9]+$',token)) and token not in stop"
   ]
  },
  {
   "cell_type": "code",
   "execution_count": 8,
   "metadata": {
    "collapsed": true
   },
   "outputs": [],
   "source": [
    "types = data_new['types'].unique()\n",
    "document = []\n",
    "# # collect all names information for each type\n",
    "# for typ in types:\n",
    "#     try:\n",
    "#         names_list = data_new.loc[data_new['types'] == typ]['name']\n",
    "#         words = []\n",
    "#         for w in names_list:\n",
    "#             for token in word_tokenize(w.lower()):\n",
    "#                 if is_ok(token):\n",
    "#                     words.append(token)\n",
    "#         document.append((words,typ))\n",
    "#     except Exception as e:\n",
    "#         print(str(e))\n",
    "#         pass\n",
    "\n",
    "for i in range(len(data_new)):\n",
    "    document.append((word_tokenize(data_new.loc[i][1]),data_new.loc[i][5]))\n",
    "    \n",
    "random.shuffle(document)"
   ]
  },
  {
   "cell_type": "code",
   "execution_count": 10,
   "metadata": {},
   "outputs": [
    {
     "data": {
      "text/plain": [
       "5480"
      ]
     },
     "execution_count": 10,
     "metadata": {},
     "output_type": "execute_result"
    }
   ],
   "source": [
    "all_names = []\n",
    "for s in document:\n",
    "    for w in s[0]:\n",
    "        all_names.append(w)\n",
    "all_names = nltk.FreqDist(all_names)\n",
    "len(all_names)"
   ]
  },
  {
   "cell_type": "code",
   "execution_count": 11,
   "metadata": {
    "collapsed": true
   },
   "outputs": [],
   "source": [
    "most_freq_words = list(all_names.keys())[0:3500]\n",
    "\n",
    "def words_counting(words_list):\n",
    "        words = set(words_list)\n",
    "        counting = {}\n",
    "        for w in most_freq_words:\n",
    "            counting[w] = (w in words)\n",
    "        return counting\n",
    "    \n",
    "featuresets = [(words_counting(w),typ) for (w,typ) in document]\n",
    "\n",
    "training_set = featuresets[:int(len(featuresets)*0.7)]\n",
    "testing_set = featuresets[int(len(featuresets)*0.7):]\n"
   ]
  },
  {
   "cell_type": "code",
   "execution_count": 12,
   "metadata": {},
   "outputs": [
    {
     "name": "stdout",
     "output_type": "stream",
     "text": [
      "Naive Bayesian: 0.570828331332533\n",
      "MultinomialNB: 0.6122448979591837\n",
      "BernoulliNB: 0.4909963985594238\n",
      "LogisticRegression: 0.6440576230492197\n"
     ]
    },
    {
     "name": "stderr",
     "output_type": "stream",
     "text": [
      "D:\\Anaconda\\lib\\site-packages\\sklearn\\linear_model\\stochastic_gradient.py:128: FutureWarning: max_iter and tol parameters have been added in <class 'sklearn.linear_model.stochastic_gradient.SGDClassifier'> in 0.19. If both are left unset, they default to max_iter=5 and tol=None. If tol is not None, max_iter defaults to max_iter=1000. From 0.21, default max_iter will be 1000, and default tol will be 1e-3.\n",
      "  \"and default tol will be 1e-3.\" % type(self), FutureWarning)\n"
     ]
    },
    {
     "name": "stdout",
     "output_type": "stream",
     "text": [
      "SGDClassifier: 0.5996398559423769\n",
      "SVC: 0.18247298919567828\n",
      "LinearSVC: 0.6302521008403361\n"
     ]
    }
   ],
   "source": [
    "import threading\n",
    "from nltk.classify.scikitlearn import SklearnClassifier\n",
    "from sklearn.naive_bayes import MultinomialNB, BernoulliNB\n",
    "from sklearn.linear_model import LogisticRegression, SGDClassifier\n",
    "from sklearn.svm import SVC, LinearSVC\n",
    "\n",
    "# Naive Bayesian\n",
    "classifier = nltk.NaiveBayesClassifier.train(training_set)\n",
    "print('Naive Bayesian:',nltk.classify.accuracy(classifier,testing_set))\n",
    "\n",
    "# MultinomialNB\n",
    "MNB_classifier = SklearnClassifier(MultinomialNB())\n",
    "MNB_classifier.train(training_set)\n",
    "print('MultinomialNB:',nltk.classify.accuracy(MNB_classifier,testing_set))\n",
    "    \n",
    "\n",
    "# BernoulliNB\n",
    "BNB_classifier = SklearnClassifier(BernoulliNB())\n",
    "BNB_classifier.train(training_set)\n",
    "print('BernoulliNB:',nltk.classify.accuracy(BNB_classifier,testing_set))\n",
    "\n",
    "# LogisticRegression\n",
    "LogisticRegression_classifier = SklearnClassifier(LogisticRegression())\n",
    "LogisticRegression_classifier.train(training_set)\n",
    "print('LogisticRegression:',nltk.classify.accuracy(LogisticRegression_classifier,testing_set))\n",
    "    \n",
    "\n",
    "# SGDClassifier\n",
    "SGD_classifier = SklearnClassifier(SGDClassifier())\n",
    "SGD_classifier.train(training_set)\n",
    "print('SGDClassifier:',nltk.classify.accuracy(SGD_classifier,testing_set))\n",
    "\n",
    "# SVC\n",
    "SVC_classifier = SklearnClassifier(SVC())\n",
    "SVC_classifier.train(training_set)\n",
    "print('SVC:',nltk.classify.accuracy(SVC_classifier,testing_set))\n",
    "\n",
    "\n",
    "# LinearSVC\n",
    "LinearSVC_classifier = SklearnClassifier(LinearSVC())\n",
    "LinearSVC_classifier.train(training_set)\n",
    "print('LinearSVC:',nltk.classify.accuracy(LinearSVC_classifier,testing_set))"
   ]
  },
  {
   "cell_type": "markdown",
   "metadata": {},
   "source": [
    "Naive Bayesian: 0.5804321728691476 <br>\n",
    "MultinomialNB: 0.6068427370948379<br>\n",
    "BernoulliNB: 0.5342136854741897<br>\n",
    "LogisticRegression: 0.6350540216086434<br>\n",
    "SGDClassifier: 0.6176470588235294<br>\n",
    "SVC: 0.19627851140456182<br>\n",
    "LinearSVC: 0.6374549819927972<br>\n",
    "<br>\n",
    "The performance of SVC is horrible. We drop it. For the rest, we keep them."
   ]
  },
  {
   "cell_type": "code",
   "execution_count": 79,
   "metadata": {},
   "outputs": [
    {
     "name": "stdout",
     "output_type": "stream",
     "text": [
      "lat_long_classifier: 0.720288115246\n"
     ]
    }
   ],
   "source": [
    "from sklearn.tree import DecisionTreeClassifier\n",
    "\n",
    "# lat and long training\n",
    "df_lat_long = []\n",
    "for i in range(len(data_new['lat'])):\n",
    "     df_lat_long.append([data_new['lat'][i],data_new['long'][i]])\n",
    "df_type = data_new['types']\n",
    "lat_long_classifier = DecisionTreeClassifier(criterion='entropy', min_samples_leaf=3)\n",
    "tree_training_set_x = df_lat_long[:int(len(df_lat_long)*0.7)]\n",
    "tree_training_set_y = df_type[int(len(df_type)*0.7):]\n",
    "tree_testing_set_x = df_lat_long[int(len(df_lat_long)*0.7):]\n",
    "tree_testing_set_y = df_type[int(len(df_type)*0.7):]\n",
    "lat_long_classifier = lat_long_classifier.fit(df_lat_long,df_type)\n",
    "\n",
    "# accuracy calculation\n",
    "result = lat_long_classifier.predict(tree_testing_set_x)\n",
    "correct = tree_testing_set_y == result\n",
    "print('lat_long_classifier:',sum(correct)/len(tree_testing_set_y))\n"
   ]
  },
  {
   "cell_type": "markdown",
   "metadata": {},
   "source": [
    "The prediction by using latitude and longtitude is impressive. It is a good predictor."
   ]
  },
  {
   "cell_type": "code",
   "execution_count": 19,
   "metadata": {
    "collapsed": true
   },
   "outputs": [],
   "source": [
    "import pickle\n",
    "# save classifiers\n",
    "c_names = ['Naive Bayesian','MultinomialNB','BernoulliNB','LogisticRegression','SGDClassifier','SVC','LinearSVC','NuSVC']\n",
    "def classifiers_save():\n",
    "    save_c_1 = open('Naive Bayesian.pickle','wb')\n",
    "    pickle.dump(classifier,save_c_1)\n",
    "    save_c_1.close\n",
    "    save_c_1 = open('MultinomialNB.pickle','wb')\n",
    "    pickle.dump(MNB_classifier,save_c_1)\n",
    "    save_c_1.close\n",
    "    save_c_1 = open('BernoulliNB.pickle','wb')\n",
    "    pickle.dump(BNB_classifier,save_c_1)\n",
    "    save_c_1.close\n",
    "    save_c_1 = open('LogisticRegression.pickle','wb')\n",
    "    pickle.dump(LogisticRegression_classifier,save_c_1)\n",
    "    save_c_1.close\n",
    "    save_c_1 = open('SGDClassifier.pickle','wb')\n",
    "    pickle.dump(SGD_classifier,save_c_1)\n",
    "    save_c_1.close\n",
    "    save_c_1 = open('SVC.pickle','wb')\n",
    "    pickle.dump(SVC_classifier,save_c_1)\n",
    "    save_c_1.close\n",
    "    save_c_1 = open('LinearSVC.pickle','wb')\n",
    "    pickle.dump(LinearSVC_classifier,save_c_1)\n",
    "    save_c_1.close\n",
    "    save_c_1 = open('lat_long_classifier.pickle','wb')\n",
    "    pickle.dump(lat_long_classifier,save_c_1)\n",
    "    save_c_1.close    \n",
    "def classifiers_read():\n",
    "    read_c_1 = open('Naive Bayesian.pickle','rb')\n",
    "    classifier = pickle.load(read_c_1)\n",
    "    read_c_1.close()\n",
    "    read_c_1 = open('MultinomialNB.pickle','rb')\n",
    "    MNB_classifier = pickle.load(read_c_1)\n",
    "    read_c_1.close()\n",
    "    read_c_1 = open('BernoulliNB.pickle','rb')\n",
    "    BNB_classifier = pickle.load(read_c_1)\n",
    "    read_c_1.close()\n",
    "    read_c_1 = open('LogisticRegression.pickle','rb')\n",
    "    LogisticRegression_classifier = pickle.load(read_c_1)\n",
    "    read_c_1.close()\n",
    "    read_c_1 = open('SGDClassifier.pickle','rb')\n",
    "    SGD_classifier = pickle.load(read_c_1)\n",
    "    read_c_1.close()\n",
    "    read_c_1 = open('SVC.pickle','rb')\n",
    "    SVC_classifier = pickle.load(read_c_1)\n",
    "    read_c_1.close()\n",
    "    read_c_1 = open('LinearSVC.pickle','rb')\n",
    "    LinearSVC_classifier = pickle.load(read_c_1)\n",
    "    read_c_1.close()\n",
    "    read_c_1 = open('lat_long_classifier.pickle','rb')\n",
    "    lat_long_classifier = pickle.load(read_c_1)\n",
    "    read_c_1.close()\n",
    "    return [classifier,MNB_classifier,BNB_classifier,LogisticRegression_classifier,\n",
    " SGD_classifier,SVC_classifier,LinearSVC_classifier,lat_long_classifier]"
   ]
  },
  {
   "cell_type": "code",
   "execution_count": 61,
   "metadata": {},
   "outputs": [],
   "source": [
    "# save classifiers\n",
    "classifiers_save()"
   ]
  },
  {
   "cell_type": "code",
   "execution_count": 20,
   "metadata": {},
   "outputs": [],
   "source": [
    "# read classifiers\n",
    "[classifier,MNB_classifier,BNB_classifier,LogisticRegression_classifier,\n",
    " SGD_classifier,SVC_classifier,LinearSVC_classifier,lat_long_classifier] = classifiers_read()"
   ]
  },
  {
   "cell_type": "code",
   "execution_count": 14,
   "metadata": {
    "collapsed": true
   },
   "outputs": [],
   "source": [
    "# voting system\n",
    "from nltk.classify import ClassifierI\n",
    "from scipy.stats import mode\n",
    "\n",
    "class VoteClassifier(ClassifierI):\n",
    "    def __init__(self,*classifiers):\n",
    "        self._classifiers = classifiers\n",
    "        self._lat_long_classifier = lat_long_classifier \n",
    "    \n",
    "    def classify(self, features, lat_long_classifier = None,tree_testing_set_x = None):\n",
    "        votes = []\n",
    "        for c in self._classifiers:\n",
    "            v = c.classify(features)\n",
    "            votes.append(v)\n",
    "        if lat_long_classifier is not None and tree_testing_set_x is not None:\n",
    "            votes.append(_lat_long_classifier.predict(tree_testing_set_x))\n",
    "        return mode(votes)[0][0]\n",
    "    \n",
    "    def confidence(self, features):\n",
    "        votes = []\n",
    "        for c in self._classifiers:\n",
    "            v = c.classify(features)\n",
    "            votes.append(v)\n",
    "            \n",
    "        choice_votes = votes.count(mode(votes)[0][0])\n",
    "        confi = choice_votes / len(votes)\n",
    "        return confi"
   ]
  },
  {
   "cell_type": "code",
   "execution_count": 21,
   "metadata": {},
   "outputs": [
    {
     "name": "stderr",
     "output_type": "stream",
     "text": [
      "D:\\Anaconda\\lib\\site-packages\\scipy\\stats\\stats.py:253: RuntimeWarning: The input array could not be properly checked for nan values. nan values will be ignored.\n",
      "  \"values. nan values will be ignored.\", RuntimeWarning)\n"
     ]
    },
    {
     "name": "stdout",
     "output_type": "stream",
     "text": [
      "voted_classifier accuracy: 0.680672268907563\n"
     ]
    }
   ],
   "source": [
    "voted_classifier = VoteClassifier( classifier,\n",
    "                                   MNB_classifier,\n",
    "                                   LogisticRegression_classifier,\n",
    "                                   SGD_classifier,\n",
    "                                   LinearSVC_classifier,\n",
    "                                   BNB_classifier\n",
    "                                 )\n",
    "print('voted_classifier accuracy:', nltk.classify.accuracy(voted_classifier,testing_set))"
   ]
  },
  {
   "cell_type": "markdown",
   "metadata": {},
   "source": [
    "Comparing name and position, the position is a better estimator for the company's category. In the next step, we will test weather this estimator has bias over different types of categories."
   ]
  },
  {
   "cell_type": "markdown",
   "metadata": {
    "collapsed": true
   },
   "source": [
    "# Bias Test"
   ]
  },
  {
   "cell_type": "code",
   "execution_count": 71,
   "metadata": {},
   "outputs": [],
   "source": [
    "import matplotlib.pyplot as plt\n",
    "typ = data_new['types'].unique()\n",
    "typ = list(typ)\n",
    "def plot_correction_distribution(clf):    \n",
    "    correction_distribution = []\n",
    "    for t in typ:\n",
    "        d = data_new[data_new['types'] == t]['name']\n",
    "        temp_data = []\n",
    "        for i in range(len(d)):\n",
    "            temp_data.append((d.iloc[i],t))\n",
    "        tpy_data = [(words_counting(w),t) for (w,t) in temp_data]\n",
    "        correction_distribution.append(nltk.classify.accuracy(clf,tpy_data))\n",
    "    plt.plot(range(len(correction_distribution)),correction_distribution)\n",
    "    plt.show()"
   ]
  },
  {
   "cell_type": "code",
   "execution_count": 72,
   "metadata": {},
   "outputs": [
    {
     "data": {
      "image/png": "[encoded data removed]",
      "text/plain": [
       "<matplotlib.figure.Figure at 0x2348a05df28>"
      ]
     },
     "metadata": {},
     "output_type": "display_data"
    },
    {
     "data": {
      "image/png": "[encoded data removed]",
      "text/plain": [
       "<matplotlib.figure.Figure at 0x2348a05d048>"
      ]
     },
     "metadata": {},
     "output_type": "display_data"
    },
    {
     "data": {
      "image/png": "[encoded data removed]",
      "text/plain": [
       "<matplotlib.figure.Figure at 0x2348a01de48>"
      ]
     },
     "metadata": {},
     "output_type": "display_data"
    },
    {
     "data": {
      "image/png": "[encoded data removed]",
      "text/plain": [
       "<matplotlib.figure.Figure at 0x23489cc6588>"
      ]
     },
     "metadata": {},
     "output_type": "display_data"
    },
    {
     "data": {
      "image/png": "[encoded data removed]",
      "text/plain": [
       "<matplotlib.figure.Figure at 0x23489c91828>"
      ]
     },
     "metadata": {},
     "output_type": "display_data"
    },
    {
     "data": {
      "image/png": "[encoded data removed]",
      "text/plain": [
       "<matplotlib.figure.Figure at 0x23489c32668>"
      ]
     },
     "metadata": {},
     "output_type": "display_data"
    }
   ],
   "source": [
    "plot_correction_distribution(classifier)\n",
    "plot_correction_distribution(MNB_classifier)\n",
    "plot_correction_distribution(LogisticRegression_classifier)\n",
    "plot_correction_distribution(SGD_classifier)\n",
    "plot_correction_distribution(LinearSVC_classifier)\n",
    "plot_correction_distribution(BNB_classifier)\n"
   ]
  },
  {
   "cell_type": "code",
   "execution_count": 77,
   "metadata": {},
   "outputs": [
    {
     "data": {
      "image/png": "[encoded data removed]",
      "text/plain": [
       "<matplotlib.figure.Figure at 0x23489aa1d68>"
      ]
     },
     "metadata": {},
     "output_type": "display_data"
    }
   ],
   "source": [
    "y = []\n",
    "for t in typ:\n",
    "    d = data_new[data_new['types'] == t]['name']\n",
    "    y.append(len(d))\n",
    "plt.plot(range(len(typ)),y)\n",
    "plt.show()"
   ]
  },
  {
   "cell_type": "markdown",
   "metadata": {},
   "source": [
    "Looking at the figures above, we could see the power of 'voting'/'crowed'. Several model compensate for each other."
   ]
  },
  {
   "cell_type": "code",
   "execution_count": 107,
   "metadata": {},
   "outputs": [
    {
     "name": "stderr",
     "output_type": "stream",
     "text": [
      "D:\\Anaconda\\lib\\site-packages\\ipykernel_launcher.py:8: FutureWarning: reshape is deprecated and will raise in a subsequent release. Please use .values.reshape(...) instead\n",
      "  \n"
     ]
    },
    {
     "data": {
      "image/png": "[encoded data removed]",
      "text/plain": [
       "<matplotlib.figure.Figure at 0x234881f1470>"
      ]
     },
     "metadata": {},
     "output_type": "display_data"
    }
   ],
   "source": [
    "def plot_correction_distribution2(clf):    \n",
    "    correction_distribution = []\n",
    "    y = []\n",
    "    for t in typ:\n",
    "        d_lat = data_new[data_new['types'] == t][['lat','long']]\n",
    "        count = 0\n",
    "        for i in range(len(d_lat)):\n",
    "            count += clf.predict(d_lat.iloc[i].reshape(-1,2))[0] == t \n",
    "        y.append(len(d_lat))\n",
    "        correction_distribution.append(count/len(d_lat))\n",
    "    \n",
    "    fig = plt.figure(figsize=(15,5))\n",
    "    ax1 = fig.add_subplot(1,2,1)\n",
    "    ax2 = fig.add_subplot(1,2,2)\n",
    "    ax1.plot(range(len(correction_distribution)),correction_distribution)\n",
    "    ax2.plot(range(len(typ)),y,c = 'r')\n",
    "    ax2.set_title('Distribution')\n",
    "    plt.show()\n",
    "plot_correction_distribution2(lat_long_classifier)"
   ]
  },
  {
   "cell_type": "code",
   "execution_count": null,
   "metadata": {
    "collapsed": true
   },
   "outputs": [],
   "source": [
    "# # read miscellaneous txt file in the folder \n",
    "# # (1) as single file is small, memory overflow is not a concern\n",
    "# txt_files = glob.glob('./ML_interview/data/information/*.txt')\n",
    "# content = []\n",
    "# for i in range(len(txt_files)):\n",
    "#     f = open(txt_files[i],'r',encoding = 'latin_1')\n",
    "#     content.append(f.read())\n",
    "#     txt_files[i] = os.path.basename(txt_files[i])\n",
    "#     txt_files[i] = os.path.splitext(txt_files[i])[0]\n",
    "# content = pd.Series(content)\n",
    "# txt_files = pd.Series(txt_files)\n",
    "# mis_data = pd.concat([txt_files,content],axis = 1)\n",
    "# mis_data.columns = ['place_id','miscellaneous']\n",
    "# #data = data.merge(mis_data, on='place_id', how = 'left')\n",
    "# data.head(20)"
   ]
  }
 ],
 "metadata": {
  "kernelspec": {
   "display_name": "Python 3",
   "language": "python",
   "name": "python3"
  },
  "language_info": {
   "codemirror_mode": {
    "name": "ipython",
    "version": 3
   },
   "file_extension": ".py",
   "mimetype": "text/x-python",
   "name": "python",
   "nbconvert_exporter": "python",
   "pygments_lexer": "ipython3",
   "version": "3.6.3"
  }
 },
 "nbformat": 4,
 "nbformat_minor": 2
}
