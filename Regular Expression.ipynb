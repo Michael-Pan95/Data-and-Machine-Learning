{
 "cells": [
  {
   "cell_type": "markdown",
   "metadata": {},
   "source": [
    "# Regular Expression"
   ]
  },
  {
   "cell_type": "code",
   "execution_count": 8,
   "metadata": {},
   "outputs": [],
   "source": [
    "# read data\n",
    "import re,csv\n",
    "f = open(\"askreddit_2015.csv\",'r', encoding='utf-8')\n",
    "posts_with_header = list(csv.reader(f))\n",
    "posts = posts_with_header[1:]"
   ]
  },
  {
   "cell_type": "markdown",
   "metadata": {},
   "source": [
    "## find out the article with [Serious] or [serious] at beginning or end"
   ]
  },
  {
   "cell_type": "code",
   "execution_count": 13,
   "metadata": {},
   "outputs": [
    {
     "name": "stdout",
     "output_type": "stream",
     "text": [
      "serious_start_count 69 \n",
      "serious_end_count 11 \n",
      "serious_count_final 80\n"
     ]
    }
   ],
   "source": [
    "serious_start_count = 0\n",
    "serious_end_count = 0\n",
    "serious_count_final = 0\n",
    "\n",
    "for i in posts:\n",
    "    if re.search('^[\\[\\(][Ss]erious[\\]\\)]',i[0]) is not None:\n",
    "        serious_start_count +=1\n",
    "    if re.search('[\\[\\(][Ss]erious[\\]\\)]$',i[0]) is not None:\n",
    "        serious_end_count +=1\n",
    "    if re.search('^[\\[\\(][Ss]erious[\\]\\)]|[\\[\\(][Ss]erious[\\]\\)]$',i[0]) is not None:\n",
    "        serious_count_final +=1 \n",
    "print('serious_start_count:',serious_start_count,'\\nserious_end_count:',serious_end_count,\\\n",
    "      '\\nserious_count_final:',serious_count_final)"
   ]
  },
  {
   "cell_type": "code",
   "execution_count": 14,
   "metadata": {
    "collapsed": true
   },
   "outputs": [],
   "source": [
    "# reformat all the irregular [serious] format\n",
    "for row in posts:\n",
    "    row[0] = re.sub('[\\[\\(][Ss]erious[\\]\\)]','[Serious]',row[0])"
   ]
  },
  {
   "cell_type": "code",
   "execution_count": null,
   "metadata": {
    "collapsed": true
   },
   "outputs": [],
   "source": []
  }
 ],
 "metadata": {
  "kernelspec": {
   "display_name": "Python 3",
   "language": "python",
   "name": "python3"
  },
  "language_info": {
   "codemirror_mode": {
    "name": "ipython",
    "version": 3
   },
   "file_extension": ".py",
   "mimetype": "text/x-python",
   "name": "python",
   "nbconvert_exporter": "python",
   "pygments_lexer": "ipython3",
   "version": "3.6.3"
  }
 },
 "nbformat": 4,
 "nbformat_minor": 2
}
