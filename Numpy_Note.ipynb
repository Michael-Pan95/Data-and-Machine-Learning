{
 "cells": [
  {
   "cell_type": "markdown",
   "metadata": {},
   "source": [
    "# Numpy_Note"
   ]
  },
  {
   "cell_type": "markdown",
   "metadata": {},
   "source": [
    "## loadtxt(path, dtype, delimiter,converters): read a .txt/.data file"
   ]
  },
  {
   "cell_type": "code",
   "execution_count": 2,
   "metadata": {},
   "outputs": [
    {
     "name": "stdout",
     "output_type": "stream",
     "text": [
      "[[ 5.1  3.5  1.4  0.2  0. ]\n",
      " [ 4.9  3.   1.4  0.2  0. ]\n",
      " [ 4.7  3.2  1.3  0.2  0. ]\n",
      " [ 4.6  3.1  1.5  0.2  0. ]\n",
      " [ 5.   3.6  1.4  0.2  0. ]]\n"
     ]
    }
   ],
   "source": [
    "import numpy as np\n",
    "\n",
    "def Iris_type(s):\n",
    "    s= s.decode(\"UTF-8\") # what text read is the b'Iris-setosa' like string, what I did here is to set proper decoding way \n",
    "    map1 = {'Iris-setosa': 0, 'Iris-versicolor': 1, 'Iris-virginica': 2}\n",
    "    return map1[s]\n",
    " # we define the data type as float, delimiter as comma, and the 4th column as a number deriving from the function named Iris_type \n",
    "data = np.loadtxt('Iris.data',dtype = float, delimiter =',', converters = {4:Iris_type})\n",
    "print(data[:5,:])"
   ]
  },
  {
   "cell_type": "markdown",
   "metadata": {},
   "source": [
    "## reshape(a, newshape)"
   ]
  },
  {
   "cell_type": "code",
   "execution_count": 13,
   "metadata": {},
   "outputs": [
    {
     "name": "stdout",
     "output_type": "stream",
     "text": [
      "[[0 1 2]\n",
      " [3 4 5]\n",
      " [6 7 8]]\n"
     ]
    }
   ],
   "source": [
    "array1 = np.arange(9)\n",
    "array2 =np.reshape(array1,(3,3)) # reshape the array1 to a 3x3 array\n",
    "print(array2)"
   ]
  },
  {
   "cell_type": "code",
   "execution_count": 19,
   "metadata": {},
   "outputs": [
    {
     "name": "stdout",
     "output_type": "stream",
     "text": [
      "[0 1 2 3 4 5 6 7 8 9]\n"
     ]
    }
   ],
   "source": [
    "array1 = np.arange(10)\n",
    "array2 =np.reshape(array1,10) # reshape the array to 1D array with the length of 10\n",
    "print(array2)"
   ]
  },
  {
   "cell_type": "code",
   "execution_count": 22,
   "metadata": {},
   "outputs": [
    {
     "name": "stdout",
     "output_type": "stream",
     "text": [
      "[[1 2]\n",
      " [3 4]\n",
      " [5 6]]\n"
     ]
    }
   ],
   "source": [
    "array1 = np.array([[1,2,3],[4,5,6]])\n",
    "array2 =np.reshape(array1,[3,-1]) # reshape the array to 3 rows and the compatible columns\n",
    "print(array2)"
   ]
  },
  {
   "cell_type": "code",
   "execution_count": 25,
   "metadata": {},
   "outputs": [
    {
     "name": "stdout",
     "output_type": "stream",
     "text": [
      "[[0 1]\n",
      " [2 3]\n",
      " [4 5]\n",
      " [6 7]\n",
      " [8 9]]\n"
     ]
    }
   ],
   "source": [
    "array1 = np.arange(10)\n",
    "array2 =np.reshape(array1,[5,-1]) # reshape the array to 5 rows and the compatible columns\n",
    "print(array2)"
   ]
  },
  {
   "cell_type": "code",
   "execution_count": 26,
   "metadata": {},
   "outputs": [
    {
     "name": "stdout",
     "output_type": "stream",
     "text": [
      "[[1 5]\n",
      " [4 3]\n",
      " [2 6]]\n"
     ]
    }
   ],
   "source": [
    "array1 = np.array([[1,2,3],[4,5,6]])\n",
    "array2 =np.reshape(array1,[3,-1],order = 'F') # reshape the array to 3 rows and the compatible columns\n",
    "print(array2)"
   ]
  },
  {
   "cell_type": "markdown",
   "metadata": {},
   "source": [
    "## object.ravel()"
   ]
  },
  {
   "cell_type": "code",
   "execution_count": 28,
   "metadata": {},
   "outputs": [
    {
     "name": "stdout",
     "output_type": "stream",
     "text": [
      "array1: \n",
      " [[0 1 2 3 4]\n",
      " [5 6 7 8 9]]\n",
      "array1.reshape(-1)\n",
      " [0 1 2 3 4 5 6 7 8 9]\n",
      "array1.ravel()\n",
      " [0 1 2 3 4 5 6 7 8 9]\n"
     ]
    }
   ],
   "source": [
    "# ravel is equivalent to reshape(-1)\n",
    "array1 = np.arange(10).reshape(2,5)\n",
    "print('array1: \\n', array1)\n",
    "print('array1.reshape(-1)\\n',array1.reshape(-1))\n",
    "print('array1.ravel()\\n',array1.ravel())"
   ]
  },
  {
   "cell_type": "markdown",
   "metadata": {},
   "source": [
    "## linspace(from,to,total No.)"
   ]
  },
  {
   "cell_type": "code",
   "execution_count": 31,
   "metadata": {},
   "outputs": [
    {
     "name": "stdout",
     "output_type": "stream",
     "text": [
      "[ 0.   0.1  0.2  0.3  0.4  0.5  0.6  0.7  0.8  0.9  1. ]\n"
     ]
    }
   ],
   "source": [
    "# create evenly spaced numbers with particular intervals\n",
    "array1 = np.linspace(0,1,11)  # interval = (max-min)/(number-1)\n",
    "print(array1)"
   ]
  },
  {
   "cell_type": "markdown",
   "metadata": {},
   "source": [
    "## split(ary, indices_or_sections, axis = 0)"
   ]
  },
  {
   "cell_type": "code",
   "execution_count": 35,
   "metadata": {},
   "outputs": [
    {
     "name": "stdout",
     "output_type": "stream",
     "text": [
      "[array([0, 1]), array([2, 3]), array([4, 5]), array([6, 7]), array([8, 9])]\n"
     ]
    }
   ],
   "source": [
    "array1 = np.arange(10)\n",
    "print(np.split(array1,5)) # equally split to 5 lists"
   ]
  },
  {
   "cell_type": "code",
   "execution_count": 36,
   "metadata": {},
   "outputs": [
    {
     "name": "stdout",
     "output_type": "stream",
     "text": [
      "[array([0, 1]), array([2, 3, 4, 5, 6, 7]), array([8, 9])]\n"
     ]
    }
   ],
   "source": [
    "array1 = np.arange(10)\n",
    "print(np.split(array1,(2,8))) # equally split at 2nd and 8th character"
   ]
  },
  {
   "cell_type": "code",
   "execution_count": 42,
   "metadata": {},
   "outputs": [
    {
     "name": "stdout",
     "output_type": "stream",
     "text": [
      "[array([[0],\n",
      "       [5]]), array([[1],\n",
      "       [6]]), array([[2],\n",
      "       [7]]), array([[3],\n",
      "       [8]]), array([[4],\n",
      "       [9]])]\n"
     ]
    }
   ],
   "source": [
    "array1 = np.array([[0,1,2,3],[6,7,8,9]])\n",
    "print(np.split(array1,5,axis = 1)) # equally split to 5 lists based on the 2nd dimention (in this example is column)"
   ]
  },
  {
   "cell_type": "markdown",
   "metadata": {
    "collapsed": true
   },
   "source": [
    "## meshgrid()"
   ]
  },
  {
   "cell_type": "markdown",
   "metadata": {},
   "source": [
    "x1, x2,..., xn : array_like\n",
    "\n",
    "1-D arrays representing the coordinates of a grid.\n",
    "\n",
    "indexing : {‘xy’, ‘ij’}, optional\n",
    "\n",
    "Cartesian (‘xy’, default) or matrix (‘ij’) indexing of output. See Notes for more details.\n",
    "\n",
    "New in version 1.7.0.\n",
    "\n",
    "sparse : bool, optional\n",
    "\n",
    "If True a sparse grid is returned in order to conserve memory. Default is False.\n",
    "\n",
    "New in version 1.7.0.\n",
    "\n",
    "copy : bool, optional\n",
    "\n",
    "If False, a view into the original arrays are returned in order to conserve memory. Default is True. Please note that sparse=False, copy=False will likely return non-contiguous arrays. Furthermore, more than one element of a broadcast array may refer to a single memory location. If you need to write to the arrays, make copies first.\n",
    "\n",
    "New in version 1.7.0."
   ]
  },
  {
   "cell_type": "code",
   "execution_count": 5,
   "metadata": {},
   "outputs": [
    {
     "name": "stdout",
     "output_type": "stream",
     "text": [
      "[-5. -4. -3. -2. -1.  0.  1.  2.  3.  4.  5.] [-1.  0.  1.]\n",
      "[[-5. -4. -3. -2. -1.  0.  1.  2.  3.  4.  5.]\n",
      " [-5. -4. -3. -2. -1.  0.  1.  2.  3.  4.  5.]\n",
      " [-5. -4. -3. -2. -1.  0.  1.  2.  3.  4.  5.]]\n",
      "[[-1. -1. -1. -1. -1. -1. -1. -1. -1. -1. -1.]\n",
      " [ 0.  0.  0.  0.  0.  0.  0.  0.  0.  0.  0.]\n",
      " [ 1.  1.  1.  1.  1.  1.  1.  1.  1.  1.  1.]]\n"
     ]
    }
   ],
   "source": [
    "x = np.linspace(-5,5,11)\n",
    "y = np.linspace(-1,1,3)\n",
    "print(array1,array2)\n",
    "xx, yy = np.meshgrid(x,y)\n",
    "print(xx)\n",
    "print(yy)"
   ]
  },
  {
   "cell_type": "code",
   "execution_count": 9,
   "metadata": {},
   "outputs": [
    {
     "name": "stdout",
     "output_type": "stream",
     "text": [
      "[[1 2 3]\n",
      " [4 5 6]]\n",
      "<numpy.flatiter object at 0x0000021FD096E050>\n"
     ]
    }
   ],
   "source": [
    "array1 = np.arange(1,7).reshape(2,3)\n",
    "print(array1)\n",
    "x = array1.flat\n",
    "print(x)\n"
   ]
  }
 ],
 "metadata": {
  "kernelspec": {
   "display_name": "Python 3",
   "language": "python",
   "name": "python3"
  },
  "language_info": {
   "codemirror_mode": {
    "name": "ipython",
    "version": 3
   },
   "file_extension": ".py",
   "mimetype": "text/x-python",
   "name": "python",
   "nbconvert_exporter": "python",
   "pygments_lexer": "ipython3",
   "version": "3.6.3"
  }
 },
 "nbformat": 4,
 "nbformat_minor": 2
}
