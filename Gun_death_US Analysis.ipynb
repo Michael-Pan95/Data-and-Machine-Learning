{
 "cells": [
  {
   "cell_type": "code",
   "execution_count": 1,
   "metadata": {
    "collapsed": false
   },
   "outputs": [
    {
     "name": "stdout",
     "output_type": "stream",
     "text": [
      "['year', 'month', 'intent', 'police', 'sex', 'age', 'race', 'hispanic', 'place', 'education']\n",
      "['1', '2012', '01', 'Suicide', '0', 'M', '34', 'Asian/Pacific Islander', '100', 'Home', '4']\n"
     ]
    }
   ],
   "source": [
    "# read data\n",
    "import csv\n",
    "f = open('guns.csv')\n",
    "data = list(csv.reader(f))\n",
    "headers = data[0][1:]\n",
    "data = data[1:]\n",
    "print(headers)\n",
    "print(data[0])"
   ]
  },
  {
   "cell_type": "code",
   "execution_count": 2,
   "metadata": {
    "collapsed": false
   },
   "outputs": [
    {
     "name": "stdout",
     "output_type": "stream",
     "text": [
      "{'2013': 33636, '2014': 33599, '2012': 33563}\n"
     ]
    }
   ],
   "source": [
    "# how many gun deaths happened in each year\n",
    "years = [y[1] for y in data]\n",
    "year_counts = dict()\n",
    "for y in years:\n",
    "    if y in year_counts:\n",
    "        year_counts[y] +=1\n",
    "    else:\n",
    "        year_counts[y] = 1\n",
    "print(year_counts)\n",
    "\n",
    "import datetime\n",
    "dates = [datetime.datetime(year = int(r[1]),month = int(r[2]), day =1) \\\n",
    "         for r in data]"
   ]
  },
  {
   "cell_type": "code",
   "execution_count": 3,
   "metadata": {
    "collapsed": false
   },
   "outputs": [
    {
     "name": "stdout",
     "output_type": "stream",
     "text": [
      "{'10': 8406, '12': 8413, '07': 8989, '03': 8289, '02': 7093, '09': 8508, '01': 8273, '08': 8783, '06': 8677, '04': 8455, '05': 8669, '11': 8243}\n"
     ]
    }
   ],
   "source": [
    "# how many gun deaths happened in each month\n",
    "months = [row[2] for row in data]\n",
    "month_count = dict()\n",
    "for m in months:\n",
    "    if m in month_count:\n",
    "        month_count[m] +=1\n",
    "    else:\n",
    "        month_count[m] = 1\n",
    "print(month_count)"
   ]
  },
  {
   "cell_type": "code",
   "execution_count": 4,
   "metadata": {
    "collapsed": false
   },
   "outputs": [
    {
     "name": "stdout",
     "output_type": "stream",
     "text": [
      "sex_counts {'M': 86349, 'F': 14449}\n",
      "race_counts {'White': 66237, 'Hispanic': 9022, 'Asian/Pacific Islander': 1326, 'Native American/Native Alaskan': 917, 'Black': 23296}\n"
     ]
    }
   ],
   "source": [
    "#  how gun deaths in the US vary by gender and race\n",
    "sex_counts = dict()\n",
    "race_counts = dict()\n",
    "for row in data:\n",
    "    if row[5] in sex_counts:\n",
    "        sex_counts[row[5]]+=1\n",
    "    else:\n",
    "        sex_counts[row[5]] =1\n",
    "    if row[7] in race_counts:\n",
    "        race_counts[row[7]] +=1\n",
    "    else:\n",
    "        race_counts[row[7]] =1\n",
    "print('sex_counts',sex_counts)\n",
    "print('race_counts',race_counts)"
   ]
  },
  {
   "cell_type": "markdown",
   "metadata": {},
   "source": [
    "Interpretation: The number of male gun cases is roughly 6 times that of the female. The white ranks first in gun death and was followed by Black. However, without looking at the demographic data (such as proportion of each), I cannot conclude which gender or race demonstrated higher tendency of gun shot."
   ]
  },
  {
   "cell_type": "code",
   "execution_count": 8,
   "metadata": {
    "collapsed": false,
    "scrolled": false
   },
   "outputs": [
    {
     "name": "stdout",
     "output_type": "stream",
     "text": [
      "death_per_100000_white 33.56849303419181\n",
      "death_per_100000_black 57.8773477735196\n"
     ]
    }
   ],
   "source": [
    "# use census data to continue analysis\n",
    "f = open('census.csv')\n",
    "c_data = list(csv.reader(f))\n",
    "c_header = c_data[0]\n",
    "c_data = c_data[1]\n",
    "# get rate of gun death per 100000 people for each race\n",
    "death_per_100000_white = race_counts['White']/int(c_data[10]) * 100000\n",
    "death_per_100000_black = race_counts['Black']/int(c_data[12]) * 100000\n",
    "print('death_per_100000_white',death_per_100000_white)\n",
    "print('death_per_100000_black',death_per_100000_black)"
   ]
  },
  {
   "cell_type": "markdown",
   "metadata": {},
   "source": [
    "Further interpretation: \n",
    "on average 33.6 out of 100,000 white people were killed by gun between 2012 and 2014. The number for black was 57.9\n",
    "After considering the proportion, we can conclude that black people has higher probability involved in a gun death."
   ]
  },
  {
   "cell_type": "code",
   "execution_count": 11,
   "metadata": {
    "collapsed": false
   },
   "outputs": [
    {
     "name": "stdout",
     "output_type": "stream",
     "text": [
      "{'White': 33.56849303419181, 'Hispanic': 20.220491210910907, 'Asian/Pacific Islander': 8.374309664161762, 'Native American/Native Alaskan': 24.521955573811088, 'Black': 57.8773477735196}\n"
     ]
    }
   ],
   "source": [
    "# calculating death ratio in each category\n",
    "import re\n",
    "def get_ratio(oringin_name,r_name):\n",
    "    population = 0\n",
    "    death = 0\n",
    "    for i, item in enumerate(c_header):\n",
    "        if re.search(r_name,item):\n",
    "            population += int(c_data[i])\n",
    "    for k,v in race_counts.items():\n",
    "        if re.search(oringin_name,k):\n",
    "            death += v\n",
    "    return death/population * 100000\n",
    "\n",
    "mapping = {'Asian/Pacific Islander':'Race Alone - Asian|Race Alone - Native Hawaiian and Other Pacific Islander',\\\n",
    "           'Black':'Race Alone - Black or African American',\\\n",
    "           'Hispanic':'Race Alone - Hispanic',\\\n",
    "           'Native American/Native Alaskan':'Race Alone - American Indian and Alaska Native',\\\n",
    "           'White':'Race Alone - White'}\n",
    "race_per_hundredk = dict()\n",
    "for k,v in mapping.items():\n",
    "    race_per_hundredk[k] = get_ratio(k,v)\n",
    "print(race_per_hundredk)"
   ]
  },
  {
   "cell_type": "code",
   "execution_count": 12,
   "metadata": {
    "collapsed": false
   },
   "outputs": [
    {
     "name": "stdout",
     "output_type": "stream",
     "text": [
      "{'White': 9147, 'Hispanic': 5634, 'Asian/Pacific Islander': 559, 'Native American/Native Alaskan': 326, 'Black': 19510}\n"
     ]
    }
   ],
   "source": [
    "# find out only homeside death record categorized by race\n",
    "intents = [row[3] for row in data]\n",
    "homicide_race_counts = dict()\n",
    "for i, item in enumerate(intents):\n",
    "    if re.search('[Hh]omicide',item):\n",
    "        if data[i][7] in homicide_race_counts:\n",
    "            homicide_race_counts[data[i][7]] += 1\n",
    "        else:\n",
    "            homicide_race_counts[data[i][7]] = 1\n",
    "print(homicide_race_counts)"
   ]
  },
  {
   "cell_type": "code",
   "execution_count": 13,
   "metadata": {
    "collapsed": false
   },
   "outputs": [
    {
     "name": "stdout",
     "output_type": "stream",
     "text": [
      "{'White': 33.56849303419181, 'Hispanic': 20.220491210910907, 'Asian/Pacific Islander': 8.374309664161762, 'Native American/Native Alaskan': 24.521955573811088, 'Black': 57.8773477735196}\n"
     ]
    }
   ],
   "source": [
    "# calculate the ratio for each race\n",
    "homicide_hundredk = dict()\n",
    "for k,v in mapping.items():\n",
    "    homicide_hundredk[k] = get_ratio(k,v)\n",
    "print(homicide_hundredk)"
   ]
  },
  {
   "cell_type": "markdown",
   "metadata": {},
   "source": [
    "Interpretation: The result shows that Black is most likely involved in homicide."
   ]
  },
  {
   "cell_type": "code",
   "execution_count": null,
   "metadata": {
    "collapsed": true
   },
   "outputs": [],
   "source": []
  }
 ],
 "metadata": {
  "kernelspec": {
   "display_name": "Python 3",
   "language": "python",
   "name": "python3"
  },
  "language_info": {
   "codemirror_mode": {
    "name": "ipython",
    "version": 3
   },
   "file_extension": ".py",
   "mimetype": "text/x-python",
   "name": "python",
   "nbconvert_exporter": "python",
   "pygments_lexer": "ipython3",
   "version": "3.4.3"
  }
 },
 "nbformat": 4,
 "nbformat_minor": 0
}
