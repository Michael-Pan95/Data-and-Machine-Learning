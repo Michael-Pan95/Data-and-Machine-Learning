{
 "cells": [
  {
   "cell_type": "markdown",
   "metadata": {},
   "source": [
    "# List Comprehension"
   ]
  },
  {
   "cell_type": "code",
   "execution_count": 3,
   "metadata": {
    "collapsed": true
   },
   "outputs": [],
   "source": [
    "import csv\n",
    "f = open('legislators.csv')\n",
    "legislators = list(csv.reader(f))\n",
    "legislators = legislators[1:-1]"
   ]
  },
  {
   "cell_type": "code",
   "execution_count": 1,
   "metadata": {},
   "outputs": [
    {
     "name": "stdout",
     "output_type": "stream",
     "text": [
      "apple_prices [100, 101, 102, 105]\n",
      "apple_prices_doubled [200, 202, 204, 210]\n",
      "apple_prices_lowered [0, 1, 2, 5]\n",
      "wrong_example [100, 101, 102, 105, 100, 101, 102, 105]\n"
     ]
    }
   ],
   "source": [
    "apple_prices = [100, 101, 102, 105]\n",
    "print('apple_prices',apple_prices)\n",
    "apple_prices_doubled = [2*apple_price for apple_price in apple_prices]\n",
    "print('apple_prices_doubled',apple_prices_doubled)\n",
    "apple_prices_lowered = [apple_price-100 for apple_price in apple_prices]\n",
    "print('apple_prices_lowered',apple_prices_lowered)\n",
    "\n",
    "# however you cannot use syntax like this:\n",
    "wrong_example = 2 * apple_prices # it will append a copy after the original list\n",
    "print('wrong_example',wrong_example)"
   ]
  },
  {
   "cell_type": "code",
   "execution_count": 5,
   "metadata": {},
   "outputs": [
    {
     "name": "stdout",
     "output_type": "stream",
     "text": [
      "{'Enid': 1, 'Lynn': 1, 'Karen': 2, 'Jennifer': 1, 'Denise': 1, 'Katherine': 1, 'Melissa': 2, 'Blanche': 1, 'Cynthia': 1, 'Anne': 1, 'Shelley': 2, 'Nancy': 1, 'Hillary': 1, 'Barbara': 1, 'Jo Ann': 2, 'Thelma': 1, 'Stephanie': 2, 'Marilyn': 1, 'Deborah': 2, 'Heather': 1, 'Virginia': 1, 'Kathleen': 2, 'Mary': 2, 'Carolyn': 1, 'Mary Jo': 1, 'Suzanne': 1, 'Betsy': 1, 'Hilda': 1, 'Ellen': 1, 'Gabrielle': 1, 'Jane': 1, 'Kay': 1, 'Olympia': 1, 'Sandy': 1, 'Ann Marie': 1, 'Nan': 1, 'Sue': 1, 'Laura': 1, 'Jean': 1, 'Betty': 1}\n"
     ]
    }
   ],
   "source": [
    "# calculate the females' first name frequency after 1940\n",
    "name_counts = dict()\n",
    "for row in legislators:\n",
    "    year = row[2].split('-')[0]\n",
    "    gender = row[3]\n",
    "    if year != '' and int(year) > 1940 and gender == 'F':\n",
    "        if row[1] in name_counts:\n",
    "            name_counts[row[1]] += 1\n",
    "        else:\n",
    "            name_counts[row[1]] = 1\n",
    "print(name_counts)"
   ]
  },
  {
   "cell_type": "code",
   "execution_count": 6,
   "metadata": {},
   "outputs": [
    {
     "name": "stdout",
     "output_type": "stream",
     "text": [
      "2\n"
     ]
    }
   ],
   "source": [
    "# get the max value in a dictionary. \n",
    "max_value = None\n",
    "for n in name_counts:\n",
    "    if max_value is None or name_counts[n] >max_value:\n",
    "        max_value = name_counts[n]\n",
    "print(max_value)"
   ]
  },
  {
   "cell_type": "code",
   "execution_count": 7,
   "metadata": {},
   "outputs": [
    {
     "name": "stdout",
     "output_type": "stream",
     "text": [
      "orchid flower\n",
      "cedar tree\n",
      "maple tree\n"
     ]
    }
   ],
   "source": [
    "# to get the value in a dictionary, we can use a simple format\n",
    "plant_types = {\"orchid\": \"flower\", \"cedar\": \"tree\", \"maple\": \"tree\"}\n",
    "for f,l in plant_types.items():\n",
    "    print(f,l)"
   ]
  },
  {
   "cell_type": "code",
   "execution_count": 8,
   "metadata": {},
   "outputs": [
    {
     "name": "stdout",
     "output_type": "stream",
     "text": [
      "Max value: 35\n",
      "['John']\n"
     ]
    }
   ],
   "source": [
    "# get top male first name with highest frequency\n",
    "top_male_names = []\n",
    "male_name_counts = dict()\n",
    "for row in legislators:\n",
    "    try:\n",
    "        year = int(row[2].split('-')[0])\n",
    "        if row[3] == 'M' and year > 1940: \n",
    "            if row[1] in male_name_counts:\n",
    "                male_name_counts[row[1]] += 1\n",
    "            else:\n",
    "                male_name_counts[row[1]] = 1\n",
    "    except: \n",
    "        pass\n",
    "max_value = None\n",
    "for k,v in male_name_counts.items():\n",
    "    if max_value is None or v > max_value:\n",
    "        max_value = v\n",
    "print('Max value:',max_value)        \n",
    "for k,v in male_name_counts.items():\n",
    "    if v == max_value:\n",
    "        top_male_names.append(k)\n",
    "print(top_male_names)"
   ]
  }
 ],
 "metadata": {
  "kernelspec": {
   "display_name": "Python 3",
   "language": "python",
   "name": "python3"
  },
  "language_info": {
   "codemirror_mode": {
    "name": "ipython",
    "version": 3
   },
   "file_extension": ".py",
   "mimetype": "text/x-python",
   "name": "python",
   "nbconvert_exporter": "python",
   "pygments_lexer": "ipython3",
   "version": "3.6.3"
  }
 },
 "nbformat": 4,
 "nbformat_minor": 2
}
