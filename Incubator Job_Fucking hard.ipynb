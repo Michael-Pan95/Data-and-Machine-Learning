{
 "cells": [
  {
   "cell_type": "markdown",
   "metadata": {},
   "source": [
    "## Read the data & Inspect the columns"
   ]
  },
  {
   "cell_type": "code",
   "execution_count": 2,
   "metadata": {
    "collapsed": true
   },
   "outputs": [],
   "source": [
    "import pandas as pd\n",
    "import numpy as np\n",
    "\n",
    "data1 = pd.read_csv('Physician_Compare_2015_Group_Public_Reporting___Performance_Scores.csv',low_memory = False)\n",
    "data2 = pd.read_csv('Physician_Compare_2015_Group_Public_Reporting_-_Patient_Experience.csv',low_memory = False)\n",
    "data3 = pd.read_csv('Physician_Compare_2015_Individual_EP_Public_Reporting___Performance_Scores.csv',low_memory = False)\n",
    "data4 = pd.read_csv('Physician_Compare_National_Downloadable_File.csv',low_memory = False)"
   ]
  },
  {
   "cell_type": "code",
   "execution_count": 3,
   "metadata": {},
   "outputs": [
    {
     "data": {
      "text/html": [
       "<div>\n",
       "<style>\n",
       "    .dataframe thead tr:only-child th {\n",
       "        text-align: right;\n",
       "    }\n",
       "\n",
       "    .dataframe thead th {\n",
       "        text-align: left;\n",
       "    }\n",
       "\n",
       "    .dataframe tbody tr th {\n",
       "        vertical-align: top;\n",
       "    }\n",
       "</style>\n",
       "<table border=\"1\" class=\"dataframe\">\n",
       "  <thead>\n",
       "    <tr style=\"text-align: right;\">\n",
       "      <th></th>\n",
       "      <th>Organization legal name or 'doing business as' name</th>\n",
       "      <th>Group PAC ID</th>\n",
       "      <th>State</th>\n",
       "      <th>Participating in PQRS</th>\n",
       "      <th>Measure Identifier</th>\n",
       "      <th>Measure Title</th>\n",
       "      <th>Inverse Measure</th>\n",
       "      <th>Measure Performance Rate</th>\n",
       "      <th>Footnote</th>\n",
       "      <th>Reporting Mechanism</th>\n",
       "      <th>Reported on PC Live Site</th>\n",
       "    </tr>\n",
       "  </thead>\n",
       "  <tbody>\n",
       "    <tr>\n",
       "      <th>0</th>\n",
       "      <td>GLEN BURNIE PHYSICAL THERAPY AND SPORTSCARE LLC</td>\n",
       "      <td>42102592</td>\n",
       "      <td>MD</td>\n",
       "      <td>NaN</td>\n",
       "      <td>PQRS_GRP_131_1</td>\n",
       "      <td>Pain Assessment and Follow-Up</td>\n",
       "      <td>N</td>\n",
       "      <td>99.0</td>\n",
       "      <td>NaN</td>\n",
       "      <td>REG</td>\n",
       "      <td>Y</td>\n",
       "    </tr>\n",
       "  </tbody>\n",
       "</table>\n",
       "</div>"
      ],
      "text/plain": [
       "  Organization legal name or 'doing business as' name  Group PAC ID State  \\\n",
       "0    GLEN BURNIE PHYSICAL THERAPY AND SPORTSCARE LLC       42102592    MD   \n",
       "\n",
       "  Participating in PQRS Measure Identifier                  Measure Title  \\\n",
       "0                   NaN     PQRS_GRP_131_1  Pain Assessment and Follow-Up   \n",
       "\n",
       "  Inverse Measure  Measure Performance Rate  Footnote Reporting Mechanism  \\\n",
       "0               N                      99.0       NaN                 REG   \n",
       "\n",
       "  Reported on PC Live Site  \n",
       "0                        Y  "
      ]
     },
     "execution_count": 3,
     "metadata": {},
     "output_type": "execute_result"
    }
   ],
   "source": [
    "data1.head(1)"
   ]
  },
  {
   "cell_type": "code",
   "execution_count": 4,
   "metadata": {},
   "outputs": [
    {
     "data": {
      "text/html": [
       "<div>\n",
       "<style>\n",
       "    .dataframe thead tr:only-child th {\n",
       "        text-align: right;\n",
       "    }\n",
       "\n",
       "    .dataframe thead th {\n",
       "        text-align: left;\n",
       "    }\n",
       "\n",
       "    .dataframe tbody tr th {\n",
       "        vertical-align: top;\n",
       "    }\n",
       "</style>\n",
       "<table border=\"1\" class=\"dataframe\">\n",
       "  <thead>\n",
       "    <tr style=\"text-align: right;\">\n",
       "      <th></th>\n",
       "      <th>Organization legal name or 'doing business as' name</th>\n",
       "      <th>Group PAC ID</th>\n",
       "      <th>State</th>\n",
       "      <th>Measure Identifier</th>\n",
       "      <th>Measure Title</th>\n",
       "      <th>Measure Performance Rate</th>\n",
       "      <th>Footnote</th>\n",
       "    </tr>\n",
       "  </thead>\n",
       "  <tbody>\n",
       "    <tr>\n",
       "      <th>0</th>\n",
       "      <td>HERITAGE VALLEY MEDICAL GROUP INC</td>\n",
       "      <td>42105678</td>\n",
       "      <td>PA</td>\n",
       "      <td>CAHPS_GRP_1</td>\n",
       "      <td>Getting timely care, appointments, and informa...</td>\n",
       "      <td>63.0</td>\n",
       "      <td>NaN</td>\n",
       "    </tr>\n",
       "  </tbody>\n",
       "</table>\n",
       "</div>"
      ],
      "text/plain": [
       "  Organization legal name or 'doing business as' name  Group PAC ID  State  \\\n",
       "0                  HERITAGE VALLEY MEDICAL GROUP INC       42105678     PA   \n",
       "\n",
       "  Measure Identifier                                      Measure Title  \\\n",
       "0        CAHPS_GRP_1  Getting timely care, appointments, and informa...   \n",
       "\n",
       "   Measure Performance Rate  Footnote  \n",
       "0                      63.0       NaN  "
      ]
     },
     "execution_count": 4,
     "metadata": {},
     "output_type": "execute_result"
    }
   ],
   "source": [
    "data2.head(1)"
   ]
  },
  {
   "cell_type": "code",
   "execution_count": 5,
   "metadata": {},
   "outputs": [
    {
     "data": {
      "text/html": [
       "<div>\n",
       "<style>\n",
       "    .dataframe thead tr:only-child th {\n",
       "        text-align: right;\n",
       "    }\n",
       "\n",
       "    .dataframe thead th {\n",
       "        text-align: left;\n",
       "    }\n",
       "\n",
       "    .dataframe tbody tr th {\n",
       "        vertical-align: top;\n",
       "    }\n",
       "</style>\n",
       "<table border=\"1\" class=\"dataframe\">\n",
       "  <thead>\n",
       "    <tr style=\"text-align: right;\">\n",
       "      <th></th>\n",
       "      <th>NPI</th>\n",
       "      <th>PAC ID</th>\n",
       "      <th>Last Name</th>\n",
       "      <th>First Name</th>\n",
       "      <th>Measure Identifier</th>\n",
       "      <th>Measure Title</th>\n",
       "      <th>Inverse Measure</th>\n",
       "      <th>Measure Performance Rate</th>\n",
       "      <th>Reporting Mechanism</th>\n",
       "      <th>Reported on PC Live Site</th>\n",
       "    </tr>\n",
       "  </thead>\n",
       "  <tbody>\n",
       "    <tr>\n",
       "      <th>0</th>\n",
       "      <td>1508823618</td>\n",
       "      <td>42100117</td>\n",
       "      <td>GRIFFIN</td>\n",
       "      <td>DAVID</td>\n",
       "      <td>PQRS_EP_110_1</td>\n",
       "      <td>Preventive Care and Screening: Influenza Immun...</td>\n",
       "      <td>N</td>\n",
       "      <td>21</td>\n",
       "      <td>CLM</td>\n",
       "      <td>Y</td>\n",
       "    </tr>\n",
       "  </tbody>\n",
       "</table>\n",
       "</div>"
      ],
      "text/plain": [
       "          NPI    PAC ID Last Name First Name Measure Identifier  \\\n",
       "0  1508823618  42100117   GRIFFIN      DAVID      PQRS_EP_110_1   \n",
       "\n",
       "                                       Measure Title Inverse Measure  \\\n",
       "0  Preventive Care and Screening: Influenza Immun...               N   \n",
       "\n",
       "   Measure Performance Rate Reporting Mechanism Reported on PC Live Site  \n",
       "0                        21                 CLM                        Y  "
      ]
     },
     "execution_count": 5,
     "metadata": {},
     "output_type": "execute_result"
    }
   ],
   "source": [
    "data3.head(1)"
   ]
  },
  {
   "cell_type": "code",
   "execution_count": 6,
   "metadata": {},
   "outputs": [
    {
     "data": {
      "text/html": [
       "<div>\n",
       "<style>\n",
       "    .dataframe thead tr:only-child th {\n",
       "        text-align: right;\n",
       "    }\n",
       "\n",
       "    .dataframe thead th {\n",
       "        text-align: left;\n",
       "    }\n",
       "\n",
       "    .dataframe tbody tr th {\n",
       "        vertical-align: top;\n",
       "    }\n",
       "</style>\n",
       "<table border=\"1\" class=\"dataframe\">\n",
       "  <thead>\n",
       "    <tr style=\"text-align: right;\">\n",
       "      <th></th>\n",
       "      <th>NPI</th>\n",
       "      <th>PAC ID</th>\n",
       "      <th>Professional Enrollment ID</th>\n",
       "      <th>Last Name</th>\n",
       "      <th>First Name</th>\n",
       "      <th>Middle Name</th>\n",
       "      <th>Suffix</th>\n",
       "      <th>Gender</th>\n",
       "      <th>Credential</th>\n",
       "      <th>Medical school name</th>\n",
       "      <th>...</th>\n",
       "      <th>Hospital affiliation CCN 3</th>\n",
       "      <th>Hospital affiliation LBN 3</th>\n",
       "      <th>Hospital affiliation CCN 4</th>\n",
       "      <th>Hospital affiliation LBN 4</th>\n",
       "      <th>Hospital affiliation CCN 5</th>\n",
       "      <th>Hospital affiliation LBN 5</th>\n",
       "      <th>Professional accepts Medicare Assignment</th>\n",
       "      <th>Reported Quality Measures</th>\n",
       "      <th>Used electronic health records</th>\n",
       "      <th>Committed to heart health through the Million Hearts® initiative.</th>\n",
       "    </tr>\n",
       "  </thead>\n",
       "  <tbody>\n",
       "    <tr>\n",
       "      <th>0</th>\n",
       "      <td>1487927612</td>\n",
       "      <td>4880850486</td>\n",
       "      <td>I20120726000331</td>\n",
       "      <td>HALL</td>\n",
       "      <td>ESTHER</td>\n",
       "      <td>S</td>\n",
       "      <td>NaN</td>\n",
       "      <td>F</td>\n",
       "      <td>NaN</td>\n",
       "      <td>LIFE CHIROPRACTIC COLLEGE - WEST</td>\n",
       "      <td>...</td>\n",
       "      <td>NaN</td>\n",
       "      <td>NaN</td>\n",
       "      <td>NaN</td>\n",
       "      <td>NaN</td>\n",
       "      <td>NaN</td>\n",
       "      <td>NaN</td>\n",
       "      <td>Y</td>\n",
       "      <td>NaN</td>\n",
       "      <td>NaN</td>\n",
       "      <td>NaN</td>\n",
       "    </tr>\n",
       "  </tbody>\n",
       "</table>\n",
       "<p>1 rows × 41 columns</p>\n",
       "</div>"
      ],
      "text/plain": [
       "          NPI      PAC ID Professional Enrollment ID Last Name First Name  \\\n",
       "0  1487927612  4880850486            I20120726000331      HALL     ESTHER   \n",
       "\n",
       "  Middle Name Suffix Gender Credential               Medical school name  \\\n",
       "0           S    NaN      F        NaN  LIFE CHIROPRACTIC COLLEGE - WEST   \n",
       "\n",
       "                                 ...                                  \\\n",
       "0                                ...                                   \n",
       "\n",
       "   Hospital affiliation CCN 3 Hospital affiliation LBN 3  \\\n",
       "0                         NaN                        NaN   \n",
       "\n",
       "  Hospital affiliation CCN 4 Hospital affiliation LBN 4  \\\n",
       "0                        NaN                        NaN   \n",
       "\n",
       "  Hospital affiliation CCN 5 Hospital affiliation LBN 5  \\\n",
       "0                        NaN                        NaN   \n",
       "\n",
       "  Professional accepts Medicare Assignment Reported Quality Measures  \\\n",
       "0                                        Y                       NaN   \n",
       "\n",
       "   Used electronic health records  \\\n",
       "0                             NaN   \n",
       "\n",
       "   Committed to heart health through the Million Hearts® initiative.  \n",
       "0                                                NaN                  \n",
       "\n",
       "[1 rows x 41 columns]"
      ]
     },
     "execution_count": 6,
     "metadata": {},
     "output_type": "execute_result"
    }
   ],
   "source": [
    "data4.head(1)"
   ]
  },
  {
   "cell_type": "markdown",
   "metadata": {},
   "source": [
    "## Calculate the number of clinicians"
   ]
  },
  {
   "cell_type": "code",
   "execution_count": 7,
   "metadata": {},
   "outputs": [
    {
     "name": "stdout",
     "output_type": "stream",
     "text": [
      "number of clinicians based on NPI: 180723\n",
      "number of clinicians based on PAC ID: 180723\n"
     ]
    }
   ],
   "source": [
    "null_NPI = data3.iloc[:,0].isnull().sum()\n",
    "null_PACID = data3.iloc[:,1].isnull().sum()\n",
    "unique_NPI = data3.iloc[:,0].unique()\n",
    "unique_PACID = data3.iloc[:,1].unique()\n",
    "unique_NPI_num = len(unique_NPI) - null_NPI\n",
    "unique_NPI_num = len(unique_PACID) - null_PACID\n",
    "print('number of clinicians based on NPI:', unique_NPI_num)\n",
    "print('number of clinicians based on PAC ID:', unique_NPI_num)"
   ]
  },
  {
   "cell_type": "markdown",
   "metadata": {},
   "source": [
    "From the result, we can condident to use either NPI or PAC ID as a candidate key to locate people. "
   ]
  },
  {
   "cell_type": "code",
   "execution_count": 8,
   "metadata": {},
   "outputs": [
    {
     "name": "stdout",
     "output_type": "stream",
     "text": [
      "Credential\n",
      "AA        523\n",
      "AU       2476\n",
      "CNA     28491\n",
      "CNM      2214\n",
      "CNS      2216\n",
      "CP      13499\n",
      "CSW     15280\n",
      "DC      22090\n",
      "DDM       429\n",
      "DDS      1058\n",
      "DO      42374\n",
      "DPM     14467\n",
      "MD     710711\n",
      "MNT      1529\n",
      "NP      48307\n",
      "OD      20208\n",
      "OT       2572\n",
      "PA      62105\n",
      "PSY       243\n",
      "PT      22813\n",
      "SCW         1\n",
      "Name: Gender, dtype: int64\n"
     ]
    }
   ],
   "source": [
    "credential_list = data4['Credential'].value_counts().keys()\n",
    "print(data4.groupby(['Credential'])['Gender'].count())"
   ]
  },
  {
   "cell_type": "code",
   "execution_count": null,
   "metadata": {
    "collapsed": true
   },
   "outputs": [],
   "source": []
  }
 ],
 "metadata": {
  "kernelspec": {
   "display_name": "Python 3",
   "language": "python",
   "name": "python3"
  },
  "language_info": {
   "codemirror_mode": {
    "name": "ipython",
    "version": 3
   },
   "file_extension": ".py",
   "mimetype": "text/x-python",
   "name": "python",
   "nbconvert_exporter": "python",
   "pygments_lexer": "ipython3",
   "version": "3.6.3"
  }
 },
 "nbformat": 4,
 "nbformat_minor": 2
}
