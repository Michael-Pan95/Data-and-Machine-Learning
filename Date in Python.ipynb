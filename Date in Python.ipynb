{
 "cells": [
  {
   "cell_type": "markdown",
   "metadata": {},
   "source": [
    "Date in Python"
   ]
  },
  {
   "cell_type": "code",
   "execution_count": 1,
   "metadata": {},
   "outputs": [
    {
     "name": "stdout",
     "output_type": "stream",
     "text": [
      "1516630131.358589 time.struct_time(tm_year=2018, tm_mon=1, tm_mday=22, tm_hour=14, tm_min=8, tm_sec=51, tm_wday=0, tm_yday=22, tm_isdst=0) 14\n"
     ]
    }
   ],
   "source": [
    "import time\n",
    "current_time = time.time()\n",
    "current_struct_time = time.gmtime(current_time)\n",
    "current_hour = current_struct_time.tm_hour\n",
    "\n",
    "print(current_time,current_struct_time,current_hour)"
   ]
  },
  {
   "cell_type": "code",
   "execution_count": 2,
   "metadata": {},
   "outputs": [
    {
     "name": "stdout",
     "output_type": "stream",
     "text": [
      "2018-01-22 14:13:00.983858 2018 1\n"
     ]
    }
   ],
   "source": [
    "import datetime\n",
    "\n",
    "current_datetime = datetime.datetime.utcnow()\n",
    "current_year = current_datetime.year\n",
    "current_month = current_datetime.month\n",
    "\n",
    "print(current_datetime,current_year,current_month)"
   ]
  },
  {
   "cell_type": "code",
   "execution_count": 5,
   "metadata": {},
   "outputs": [
    {
     "data": {
      "text/plain": [
       "datetime.datetime(1233, 9, 29, 0, 0)"
      ]
     },
     "execution_count": 5,
     "metadata": {},
     "output_type": "execute_result"
    }
   ],
   "source": [
    "my_birthday = datetime.datetime(month = 1, day = 12, year = 1234)\n",
    "diff = datetime.timedelta(weeks =15)\n",
    "before_kirk = my_birthday - diff\n",
    "before_kirk"
   ]
  },
  {
   "cell_type": "code",
   "execution_count": 8,
   "metadata": {},
   "outputs": [
    {
     "name": "stdout",
     "output_type": "stream",
     "text": [
      "07:00AM on Tuesday January 23, 2018\n"
     ]
    }
   ],
   "source": [
    "# format the time\n",
    "mystery_date = datetime.datetime(year = 2018,month = 1, day = 23,hour = 7)\n",
    "mystery_date_formatted_string = mystery_date.strftime('%I:%M%p on %A %B %d, %Y')\n",
    "print(mystery_date_formatted_string)"
   ]
  },
  {
   "cell_type": "code",
   "execution_count": 12,
   "metadata": {},
   "outputs": [
    {
     "name": "stdout",
     "output_type": "stream",
     "text": [
      "[\"What's your favorite video that is 10 seconds or less?\", '8656', datetime.datetime(2015, 6, 13, 23, 55, 17), '4', '8479']\n"
     ]
    }
   ],
   "source": [
    "# we convert string of UNIX time to datetime\n",
    "import csv\n",
    "f = open(\"askreddit_2015.csv\",'r', encoding='utf-8')\n",
    "posts_with_header = list(csv.reader(f))\n",
    "posts = posts_with_header[1:]\n",
    "for t in posts:\n",
    "    try:\n",
    "        d_time = datetime.datetime.fromtimestamp(float(t[2]))\n",
    "        t[2] = d_time\n",
    "    except:\n",
    "        pass\n",
    "print(posts[1])"
   ]
  },
  {
   "cell_type": "code",
   "execution_count": null,
   "metadata": {
    "collapsed": true
   },
   "outputs": [],
   "source": []
  }
 ],
 "metadata": {
  "kernelspec": {
   "display_name": "Python 3",
   "language": "python",
   "name": "python3"
  },
  "language_info": {
   "codemirror_mode": {
    "name": "ipython",
    "version": 3
   },
   "file_extension": ".py",
   "mimetype": "text/x-python",
   "name": "python",
   "nbconvert_exporter": "python",
   "pygments_lexer": "ipython3",
   "version": "3.6.3"
  }
 },
 "nbformat": 4,
 "nbformat_minor": 2
}
