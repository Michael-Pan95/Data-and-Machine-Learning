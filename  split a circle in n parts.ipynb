{
 "cells": [
  {
   "cell_type": "code",
   "execution_count": 22,
   "metadata": {},
   "outputs": [
    {
     "data": {
      "text/plain": [
       "2"
      ]
     },
     "execution_count": 22,
     "metadata": {},
     "output_type": "execute_result"
    }
   ],
   "source": [
    "# split a circle in n parts. Filling m types of color and adjacent parts have different color. How many possible color filling plan?\n",
    "def color_plan(n,m):\n",
    "    if n > m:\n",
    "        return \"i\"\n",
    "    if m>= n:\n",
    "        temp_m = m\n",
    "        result = 1\n",
    "        for _ in range(n):\n",
    "            result *= temp_m\n",
    "            temp_m -= 1\n",
    "        return result\n",
    "    \n",
    "    if n == 1:\n",
    "        return m\n",
    "    return m*(m-1)**(n-1) - question1(n-1,m)\n",
    "color_plan(6,2)            \n",
    "                \n",
    "    "
   ]
  },
  {
   "cell_type": "code",
   "execution_count": null,
   "metadata": {
    "collapsed": true
   },
   "outputs": [],
   "source": []
  }
 ],
 "metadata": {
  "kernelspec": {
   "display_name": "Python 3",
   "language": "python",
   "name": "python3"
  },
  "language_info": {
   "codemirror_mode": {
    "name": "ipython",
    "version": 3
   },
   "file_extension": ".py",
   "mimetype": "text/x-python",
   "name": "python",
   "nbconvert_exporter": "python",
   "pygments_lexer": "ipython3",
   "version": "3.6.4"
  }
 },
 "nbformat": 4,
 "nbformat_minor": 2
}
