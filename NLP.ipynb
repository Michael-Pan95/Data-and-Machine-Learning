{
 "cells": [
  {
   "cell_type": "code",
   "execution_count": 2,
   "metadata": {},
   "outputs": [],
   "source": [
    "from os import path"
   ]
  },
  {
   "cell_type": "code",
   "execution_count": 3,
   "metadata": {},
   "outputs": [],
   "source": [
    "fname = path.expanduser('C:/Users/Michael/AppData/Roaming/nltk_data/corpora/abc/science.txt')\n",
    "with open(fname,'rb') as fp:\n",
    "    data = fp.read().decode(errors = 'replace')"
   ]
  },
  {
   "cell_type": "code",
   "execution_count": 4,
   "metadata": {},
   "outputs": [
    {
     "name": "stdout",
     "output_type": "stream",
     "text": [
      "Cystic fibrosis affects 30,000 children and young adults in the US alone\r\n",
      "Inhaling the mists of salt water can reduce the pus and infection that fills the airways of cystic fibrosis sufferers, although side effects include a nasty coughing fit and a harsh taste. \r\n",
      "That's the conclusion of two studies published in this week's issue of The New England Journal of Medicine.\r\n",
      "They found that inhaling a mist with a salt content of 7 or 9% improved lung function and, in some cases, produced less absenteeism from school or work. \r\n",
      "Cystic fibrosis, a progressive and frequently fatal genetic disease that affects about 30,000 young adults and children in the US alone, is marked by a thickening of the mucus which makes it harder to clear the lungs of debris and bacteria. \r\n",
      "The salt water solution \"really opens up a new avenue for approaching patients with cystic fibrosis and how to treat them,\" says Dr Gail Weinmann, of the US National Heart, Lung, and Blood Institute, which sponsored one of the studies. \r\n",
      "Mark Elkins of the Royal Prince Alfred Hospital in Sydney, Australia and colleagues authored one of the new published studies.\r\n",
      "The team found that the 83 volunteers who regularly inhaled a 7% mist of salty water had fewer breathing problems and less absenteeism from school or work than those who inhaled a solution with a salt content of under 1%. \r\n",
      "\"Adding salt [and water] to the airway surfaces of patients with cystic fibrosis is beneficial\" for both children and adults, they conclude. \r\n",
      "All of the patients first inhaled a chemical to try to open their lung passages as much as possible.\r\n",
      "In the second study, US-based Assistant Profsesor Scott Donaldson of the University of North Carolina at Chapel Hill and his colleagues found that a 7% salt mist \"produced a sustained acceleration of mucus clearance and improved lung function\" because it helped hydrate the lungs.\r\n",
      "In an accompanying editorial, Dr Felix Ratjen of the Hospital for Sick Children in Toronto, Canada, cited several unpleasant side effects of the salt mist treatment including a bad taste, coughing fits and the lengthy 30 minutes it can take to administer. \r\n",
      "He added that in the study by Elkins and team, patients may not have received the best long-term antibiotic treatment. \r\n",
      "That would make the inhaled salt water mist appear more effective than it would have been if people were getting a better drug, says Ratjen. \r\n",
      "Weinmann says limitations inherent to the treatment mean a salt water mist \"may be just a first step\" in treating cystic fibrosis.\n"
     ]
    }
   ],
   "source": [
    "articles = data.split('\\r\\n\\r\\n')\n",
    "article = articles[0]\n",
    "print(article)"
   ]
  },
  {
   "cell_type": "code",
   "execution_count": 5,
   "metadata": {},
   "outputs": [],
   "source": [
    "from nltk.tokenize import sent_tokenize"
   ]
  },
  {
   "cell_type": "code",
   "execution_count": 6,
   "metadata": {},
   "outputs": [
    {
     "name": "stdout",
     "output_type": "stream",
     "text": [
      "Cystic fibrosis affects 30,000 children and young adults in the US alone\r\n",
      "Inhaling the mists of salt water can reduce the pus and infection that fills the airways of cystic fibrosis sufferers, although side effects include a nasty coughing fit and a harsh taste.\n"
     ]
    }
   ],
   "source": [
    "sent = sent_tokenize(article)\n",
    "print(sent[0])"
   ]
  },
  {
   "cell_type": "code",
   "execution_count": 7,
   "metadata": {
    "collapsed": true
   },
   "outputs": [],
   "source": [
    "from nltk.corpus import stopwords\n",
    "import re"
   ]
  },
  {
   "cell_type": "code",
   "execution_count": 8,
   "metadata": {
    "collapsed": true
   },
   "outputs": [],
   "source": [
    "stop = set(stopwords.words('english'))"
   ]
  },
  {
   "cell_type": "code",
   "execution_count": 9,
   "metadata": {
    "collapsed": true
   },
   "outputs": [],
   "source": [
    "def is_ok(token):\n",
    "    return re.match('^[a-z]+$',token) and token not in stop"
   ]
  },
  {
   "cell_type": "code",
   "execution_count": 10,
   "metadata": {
    "collapsed": true
   },
   "outputs": [],
   "source": [
    "from nltk.tokenize import word_tokenize\n",
    "def tokenize(sent):\n",
    "    return [word for word in word_tokenize(sent.lower()) if is_ok(word)]"
   ]
  },
  {
   "cell_type": "code",
   "execution_count": 11,
   "metadata": {},
   "outputs": [],
   "source": [
    "from collections import Counter"
   ]
  },
  {
   "cell_type": "code",
   "execution_count": 12,
   "metadata": {
    "collapsed": true
   },
   "outputs": [],
   "source": [
    "def summarize(text,n= 3):\n",
    "    sents = sent_tokenize(text)\n",
    "    bow = [tokenize(sent) for sent in sents]\n",
    "    tf = Counter()\n",
    "    for sent in bow:\n",
    "        tf.update(sent)\n",
    "        \n",
    "    def score(i):\n",
    "        return sum(tf[word] for word in bow[i])\n",
    "    \n",
    "    idx = sorted(range(len(bow)),key = score, reverse=True)[:n]\n",
    "    return [sents[i] for i in idx]"
   ]
  },
  {
   "cell_type": "code",
   "execution_count": 14,
   "metadata": {},
   "outputs": [
    {
     "data": {
      "text/plain": [
       "['Cystic fibrosis affects 30,000 children and young adults in the US alone\\r\\nInhaling the mists of salt water can reduce the pus and infection that fills the airways of cystic fibrosis sufferers, although side effects include a nasty coughing fit and a harsh taste.',\n",
       " 'The salt water solution \"really opens up a new avenue for approaching patients with cystic fibrosis and how to treat them,\" says Dr Gail Weinmann, of the US National Heart, Lung, and Blood Institute, which sponsored one of the studies.',\n",
       " 'The team found that the 83 volunteers who regularly inhaled a 7% mist of salty water had fewer breathing problems and less absenteeism from school or work than those who inhaled a solution with a salt content of under 1%.']"
      ]
     },
     "execution_count": 14,
     "metadata": {},
     "output_type": "execute_result"
    }
   ],
   "source": [
    "summarize(article)"
   ]
  },
  {
   "cell_type": "code",
   "execution_count": null,
   "metadata": {
    "collapsed": true
   },
   "outputs": [],
   "source": []
  }
 ],
 "metadata": {
  "kernelspec": {
   "display_name": "Python 3",
   "language": "python",
   "name": "python3"
  },
  "language_info": {
   "codemirror_mode": {
    "name": "ipython",
    "version": 3
   },
   "file_extension": ".py",
   "mimetype": "text/x-python",
   "name": "python",
   "nbconvert_exporter": "python",
   "pygments_lexer": "ipython3",
   "version": "3.6.3"
  }
 },
 "nbformat": 4,
 "nbformat_minor": 2
}
