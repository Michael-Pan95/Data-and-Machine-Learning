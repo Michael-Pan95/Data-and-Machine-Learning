{
 "cells": [
  {
   "cell_type": "code",
   "execution_count": 5,
   "metadata": {},
   "outputs": [],
   "source": [
    "import numpy as np\n",
    "world_alcohol = np.genfromtxt('world_alcohol.csv',delimiter =',',skip_header=1,dtype = 'U75')\n",
    "q1 = world_alcohol[:,0] == '1986'\n",
    "q2 = world_alcohol[:,3] == 'Wine'\n",
    "q1\n",
    "q2\n",
    "world_alcohol[q1] = '2014'\n",
    "world_alcohol[q2] = 'Grog'"
   ]
  },
  {
   "cell_type": "code",
   "execution_count": null,
   "metadata": {
    "collapsed": true
   },
   "outputs": [],
   "source": []
  }
 ],
 "metadata": {
  "kernelspec": {
   "display_name": "Python 3",
   "language": "python",
   "name": "python3"
  },
  "language_info": {
   "codemirror_mode": {
    "name": "ipython",
    "version": 3
   },
   "file_extension": ".py",
   "mimetype": "text/x-python",
   "name": "python",
   "nbconvert_exporter": "python",
   "pygments_lexer": "ipython3",
   "version": "3.6.3"
  }
 },
 "nbformat": 4,
 "nbformat_minor": 2
}
