{
 "cells": [
  {
   "cell_type": "markdown",
   "metadata": {},
   "source": [
    "# US student  graduate student employment analysis-summarizing data"
   ]
  },
  {
   "cell_type": "markdown",
   "metadata": {},
   "source": [
    "## Data preview"
   ]
  },
  {
   "cell_type": "code",
   "execution_count": 11,
   "metadata": {},
   "outputs": [
    {
     "name": "stdout",
     "output_type": "stream",
     "text": [
      "Employment data by major for all ages\n",
      " ['Major_code', 'Major', 'Major_category', 'Total', 'Employed', 'Employed_full_time_year_round', 'Unemployed', 'Unemployment_rate', 'Median', 'P25th', 'P75th']\n",
      "Employment data by major for recent college graduates only\n",
      " ['Rank', 'Major_code', 'Major', 'Total', 'Men', 'Women', 'Major_category', 'ShareWomen', 'Sample_size', 'Employed', 'Full_time', 'Part_time', 'Full_time_year_round', 'Unemployed', 'Unemployment_rate', 'Median', 'P25th', 'P75th', 'College_jobs', 'Non_college_jobs', 'Low_wage_jobs']\n"
     ]
    }
   ],
   "source": [
    "import pandas as pd\n",
    "import numpy as np\n",
    "\n",
    "# read the data\n",
    "all_ages = pd.read_csv('all-ages.csv')\n",
    "recent_grads = pd.read_csv('recent-grads.csv')\n",
    "\n",
    "# display the schema for each table\n",
    "print('Employment data by major for all ages\\n',all_ages.columns.tolist())\n",
    "print('Employment data by major for recent college graduates only\\n',recent_grads.columns.tolist())"
   ]
  },
  {
   "cell_type": "markdown",
   "metadata": {},
   "source": [
    "## Mission 1: inspect student number grouping by major"
   ]
  },
  {
   "cell_type": "code",
   "execution_count": 9,
   "metadata": {},
   "outputs": [
    {
     "name": "stdout",
     "output_type": "stream",
     "text": [
      "Agriculture & Natural Resources         632437\n",
      "Arts                                   1805865\n",
      "Biology & Life Science                 1338186\n",
      "Business                               9858741\n",
      "Communications & Journalism            1803822\n",
      "Computers & Mathematics                1781378\n",
      "Education                              4700118\n",
      "Engineering                            3576013\n",
      "Health                                 2950859\n",
      "Humanities & Liberal Arts              3738335\n",
      "Industrial Arts & Consumer Services    1033798\n",
      "Interdisciplinary                        45199\n",
      "Law & Public Policy                     902926\n",
      "Physical Sciences                      1025318\n",
      "Psychology & Social Work               1987278\n",
      "Social Science                         2654125\n",
      "Name: 0, dtype: int64\n",
      "Agriculture & Natural Resources          75620\n",
      "Arts                                    357130\n",
      "Biology & Life Science                  453862\n",
      "Business                               1302376\n",
      "Communications & Journalism             392601\n",
      "Computers & Mathematics                 299008\n",
      "Education                               559129\n",
      "Engineering                             537583\n",
      "Health                                  463230\n",
      "Humanities & Liberal Arts               713468\n",
      "Industrial Arts & Consumer Services     229792\n",
      "Interdisciplinary                        12296\n",
      "Law & Public Policy                     179107\n",
      "Physical Sciences                       185479\n",
      "Psychology & Social Work                481007\n",
      "Social Science                          529966\n",
      "Name: 0, dtype: int64\n"
     ]
    }
   ],
   "source": [
    "# one of intuitive way to sum all the student data grouping by major\n",
    "aa_cat_counts = pd.pivot_table(all_ages,index = 'Major_category',values = 'Total', aggfunc=np.sum).to_dict()\n",
    "rg_cat_counts = pd.pivot_table(recent_grads,index = 'Major_category',values = 'Total', aggfunc=np.sum).to_dict()\n",
    "\n",
    "# another solution: this one uses \n",
    "aa_cat_counts = dict()\n",
    "rg_cat_counts = dict()\n",
    "Major_category_a = all_ages['Major_category'].unique()\n",
    "Major_category_r = recent_grads['Major_category'].unique()\n",
    "for m in Major_category_a:\n",
    "    c = all_ages['Total'][all_ages['Major_category']==m].sum()\n",
    "    aa_cat_counts[m] = c\n",
    "for m in Major_category_r:\n",
    "    c = recent_grads['Total'][recent_grads['Major_category']==m].sum()\n",
    "    rg_cat_counts[m] = int(c)\n",
    "\n",
    "# reader-friendly display\n",
    "print(pd.DataFrame(aa_cat_counts,index = [0]).iloc[0])\n",
    "print(pd.DataFrame(rg_cat_counts,index = [0]).iloc[0])"
   ]
  },
  {
   "cell_type": "markdown",
   "metadata": {},
   "source": [
    "## Mission 2: test the claim that graduates are 'likely' to get low-pay jobs"
   ]
  },
  {
   "cell_type": "code",
   "execution_count": 17,
   "metadata": {},
   "outputs": [
    {
     "name": "stdout",
     "output_type": "stream",
     "text": [
      "low wage percentage: 9.858891195563151%\n"
     ]
    }
   ],
   "source": [
    "low_wage_proportion = recent_grads['Low_wage_jobs'].sum()/recent_grads['Total'].sum()\n",
    "print('low wage percentage:',str(low_wage_proportion * 100)+'%')"
   ]
  },
  {
   "cell_type": "markdown",
   "metadata": {},
   "source": [
    "The data shows merely 10% of graduates get low-pay jobs. \n",
    "<br>Let's also comparing the recent graduate unemployment data and all ages data"
   ]
  },
  {
   "cell_type": "code",
   "execution_count": 20,
   "metadata": {},
   "outputs": [
    {
     "name": "stdout",
     "output_type": "stream",
     "text": [
      "44 out of 173\n",
      "44 out of 173\n"
     ]
    }
   ],
   "source": [
    "majors = recent_grads['Major'].unique()\n",
    "rg_lower_count = 0\n",
    "\n",
    "# one solution: the sum is only used as a shorcut to get a number\n",
    "for i,item in enumerate(majors):\n",
    "    sum_r = recent_grads['Unemployment_rate'][recent_grads['Major']==item].sum()\n",
    "    sum_a = all_ages['Unemployment_rate'][all_ages['Major']==item].sum()\n",
    "    if sum_r<sum_a:\n",
    "        rg_lower_count+=1\n",
    "print(rg_lower_count,'out of',len(recent_grads['Major']))\n",
    "\n",
    "# another solution: standard way to get a number from the Dataframe\n",
    "rg_lower_count =0\n",
    "for m in majors:\n",
    "    recent_grads_row = recent_grads[recent_grads['Major'] == m]\n",
    "    all_ages_row = all_ages[all_ages['Major'] == m]\n",
    "    \n",
    "    # The reason not using loc[] is that the first index is dynamic as the major changes.\n",
    "    rg_unemp_rate = recent_grads_row.iloc[0]['Unemployment_rate']\n",
    "    aa_unemp_rate = all_ages_row.iloc[0]['Unemployment_rate']\n",
    "    \n",
    "    if rg_unemp_rate < aa_unemp_rate:\n",
    "        rg_lower_count += 1\n",
    "print(rg_lower_count,'out of',len(recent_grads['Major']))"
   ]
  },
  {
   "cell_type": "markdown",
   "metadata": {},
   "source": [
    "There are 44 out of 173 majors that graduate gets lower unemployment rate, which indicates that graduates excel in the 1/4 of majors. "
   ]
  }
 ],
 "metadata": {
  "kernelspec": {
   "display_name": "Python 3",
   "language": "python",
   "name": "python3"
  },
  "language_info": {
   "codemirror_mode": {
    "name": "ipython",
    "version": 3
   },
   "file_extension": ".py",
   "mimetype": "text/x-python",
   "name": "python",
   "nbconvert_exporter": "python",
   "pygments_lexer": "ipython3",
   "version": "3.6.3"
  }
 },
 "nbformat": 4,
 "nbformat_minor": 2
}
